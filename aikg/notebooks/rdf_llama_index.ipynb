{
 "cells": [
  {
   "cell_type": "code",
   "execution_count": 163,
   "metadata": {},
   "outputs": [
    {
     "data": {
      "text/plain": [
       "True"
      ]
     },
     "execution_count": 163,
     "metadata": {},
     "output_type": "execute_result"
    }
   ],
   "source": [
    "\n",
    "import os\n",
    "from importlib import reload\n",
    "from pathlib import Path\n",
    "from typing import Optional, List, Mapping, Any\n",
    "\n",
    "from dotenv import load_dotenv\n",
    "import torch\n",
    "from langchain.embeddings import HuggingFaceEmbeddings \n",
    "from llama_index import LangchainEmbedding, PromptHelper\n",
    "from llama_index import GPTSimpleVectorIndex\n",
    "from llama_index import LLMPredictor, ServiceContext\n",
    "from rdflib import Graph\n",
    "\n",
    "import aikg.utils.llm as akllm\n",
    "import aikg.utils.rdf as akrdf\n",
    "reload(akrdf)\n",
    "reload(akllm)\n",
    "load_dotenv()"
   ]
  },
  {
   "cell_type": "code",
   "execution_count": 55,
   "metadata": {},
   "outputs": [],
   "source": [
    "\n",
    "question = \"What is the tallest Pokemon?\"\n",
    "prompt_template = \"\"\"Question: {question}\n",
    "\n",
    "Answer: Let's think step by step.\"\"\"\n",
    "\n"
   ]
  },
  {
   "cell_type": "code",
   "execution_count": 56,
   "metadata": {},
   "outputs": [],
   "source": [
    "ontology = '/tmp/ontology.nt'\n",
    "instances = '/tmp/instances.nq'"
   ]
  },
  {
   "cell_type": "code",
   "execution_count": 57,
   "metadata": {},
   "outputs": [
    {
     "name": "stdout",
     "output_type": "stream",
     "text": [
      "  % Total    % Received % Xferd  Average Speed   Time    Time     Time  Current\n",
      "                                 Dload  Upload   Total   Spent    Left  Speed\n",
      "100  108k  100  108k    0     0   385k      0 --:--:-- --:--:-- --:--:--  384k\n",
      "  % Total    % Received % Xferd  Average Speed   Time    Time     Time  Current\n",
      "                                 Dload  Upload   Total   Spent    Left  Speed\n",
      "100 1599k  100 1599k    0     0  3685k      0 --:--:-- --:--:-- --:--:-- 3692k\n"
     ]
    }
   ],
   "source": [
    "!curl https://www.pokemonkg.org/ontology/ontology.nt -o $ontology\n",
    "!curl https://www.pokemonkg.org/download/dump/poke-a.nq.gz -o - | gzip -dc  > $instances"
   ]
  },
  {
   "cell_type": "code",
   "execution_count": 58,
   "metadata": {},
   "outputs": [
    {
     "name": "stdout",
     "output_type": "stream",
     "text": [
      "<https://pokemonkg.org/dataset/artwork/sugimori-early-japan> <http://www.w3.org/1999/02/22-rdf-syntax-ns#type> <http://www.w3.org/ns/dcat#Dataset> <https://pokemonkg.org/dataset/artwork/sugimori-early-japan> .\n",
      "<https://pokemonkg.org/dataset/artwork/sugimori-early-japan> <http://www.w3.org/1999/02/22-rdf-syntax-ns#type> <http://www.w3.org/ns/prov#Entity> <https://pokemonkg.org/dataset/artwork/sugimori-early-japan> .\n",
      "<https://pokemonkg.org/dataset/artwork/sugimori-early-japan> <http://purl.org/dc/terms/accrualPeriodicity> <http://purl.org/linked-data/sdmx/2009/code#freq-A> <https://pokemonkg.org/dataset/artwork/sugimori-early-japan> .\n",
      "<https://pokemonkg.org/dataset/artwork/sugimori-early-japan> <http://purl.org/dc/terms/description> \"This dataset provides meta information about early version of official Pokémon artwork in Japan of Pokémon in the national Pokédex.\"@en <https://pokemonkg.org/dataset/artwork/sugimori-early-japan> .\n",
      "<https://pokemonkg.org/dataset/artwork/sugimori-early-japan> <http://purl.org/dc/terms/issued> \"2021-07-14T09:03:46.085744\"^^<http://www.w3.org/2001/XMLSchema#dateTime> <https://pokemonkg.org/dataset/artwork/sugimori-early-japan> .\n",
      "<https://pokemonkg.org/dataset/artwork/sugimori-early-japan> <http://purl.org/dc/terms/publisher> <https://kevinhaller.dev/me> <https://pokemonkg.org/dataset/artwork/sugimori-early-japan> .\n",
      "<https://pokemonkg.org/dataset/artwork/sugimori-early-japan> <http://purl.org/dc/terms/title> \"Early version of official Pokémon artwork in Japan for Pokémon\"@en <https://pokemonkg.org/dataset/artwork/sugimori-early-japan> .\n",
      "<https://pokemonkg.org/dataset/artwork/sugimori-early-japan> <http://www.w3.org/ns/dcat#keyword> \"artwork\"@en <https://pokemonkg.org/dataset/artwork/sugimori-early-japan> .\n",
      "<https://pokemonkg.org/dataset/artwork/sugimori-early-japan> <http://www.w3.org/ns/dcat#keyword> \"avatars\"@en <https://pokemonkg.org/dataset/artwork/sugimori-early-japan> .\n",
      "<https://pokemonkg.org/dataset/artwork/sugimori-early-japan> <http://www.w3.org/ns/dcat#keyword> \"pokémon\"@en <https://pokemonkg.org/dataset/artwork/sugimori-early-japan> .\n"
     ]
    }
   ],
   "source": [
    "!head $instances"
   ]
  },
  {
   "cell_type": "code",
   "execution_count": 126,
   "metadata": {},
   "outputs": [],
   "source": [
    "reload(akrdf)\n",
    "# From quads to triples (dropping named graphs context)\n",
    "instance_quads = ConjunctiveGraph()\n",
    "instance_quads.parse(instances, format='nquads')\n",
    "\n",
    "# One graph per subject (to generate documents)\n",
    "instance_graphs = [s for g in instance_quads.contexts() for s in akrdf.split_by_subject(g)]\n",
    "schema_graph = Graph().parse(ontology, format='nt')"
   ]
  },
  {
   "cell_type": "code",
   "execution_count": 173,
   "metadata": {},
   "outputs": [
    {
     "name": "stderr",
     "output_type": "stream",
     "text": [
      "Loading checkpoint shards: 100%|██████████| 39/39 [03:37<00:00,  5.59s/it]\n"
     ]
    }
   ],
   "source": [
    "reload(akllm)\n",
    "# define prompt helper\n",
    "# set maximum input size\n",
    "max_input_size = 2048\n",
    "# set number of output tokens\n",
    "num_output = 256\n",
    "# set maximum chunk overlap\n",
    "max_chunk_overlap = 20\n",
    "\n",
    "prompt_helper = PromptHelper(max_input_size, num_output, max_chunk_overlap)\n",
    "\n",
    "\n",
    "# define our LLM\n",
    "llm_predictor = LLMPredictor(llm=akllm.CustomLLM())\n",
    "embed_model = LangchainEmbedding(HuggingFaceEmbeddings())\n",
    "\n",
    "service_context = ServiceContext.from_defaults(\n",
    "    llm_predictor=llm_predictor,\n",
    "    prompt_helper=prompt_helper,\n",
    "    embed_model=embed_model,\n",
    ")\n"
   ]
  },
  {
   "cell_type": "code",
   "execution_count": 169,
   "metadata": {},
   "outputs": [
    {
     "name": "stderr",
     "output_type": "stream",
     "text": [
      "Batches: 100%|██████████| 1/1 [00:00<00:00,  5.33it/s]\n",
      "INFO:llama_index.token_counter.token_counter:> [build_index_from_nodes] Total LLM token usage: 0 tokens\n",
      "INFO:llama_index.token_counter.token_counter:> [build_index_from_nodes] Total embedding token usage: 486 tokens\n"
     ]
    }
   ],
   "source": [
    "reload(akrdf)\n",
    "import joblib\n",
    "# Load each instance graph as a document\n",
    "# The schema is injected in each graph to\n",
    "# provide human readable context\n",
    "os.environ[\"TOKENIZERS_PARALLELISM\"] = \"false\"\n",
    "loader = akrdf.CustomRDFReader()\n",
    "doc_graphs = map(lambda g: g | schema_graph, instance_graphs[:50])\n",
    "runner = joblib.Parallel(n_jobs=12)\n",
    "documents = runner(joblib.delayed(loader.load_data)(g) for g in doc_graphs)\n",
    "documents = [doc for doc in documents if doc.text]\n",
    "index = GPTSimpleVectorIndex.from_documents(documents, service_context=service_context)\n"
   ]
  },
  {
   "cell_type": "code",
   "execution_count": 170,
   "metadata": {},
   "outputs": [
    {
     "data": {
      "text/plain": [
       "[Document(text='<Hitmonlee> <in egg group> <Human-like>\\n<Hitmonlee> <may have hidden ability> <unburden>\\n<Hitmonlee> <has colour> <Brown>\\n<Hitmonlee> <has Type> <Fighting>\\n<Hitmonlee> <may have ability> <limber>\\n<Hitmonlee> <may have ability> <reckless>\\n<Hitmonlee> <has shape> <Humanoid>', doc_id='1874788c-fe9c-4750-917a-67d3f763a636', embedding=None, doc_hash='b094cf3176eb8f9d5bbf59ab1949cb97e0043fb98fa0c0305fe9524762e0cba3', extra_info=None),\n",
       " Document(text='<Scrafty> <in egg group> <Field>\\n<Scrafty> <in egg group> <Dragon>\\n<Scrafty> <may have hidden ability> <intimidate>\\n<Scrafty> <has colour> <Red>\\n<Scrafty> <has Type> <Dark>\\n<Scrafty> <has Type> <Fighting>\\n<Scrafty> <may have ability> <moxie>\\n<Scrafty> <may have ability> <shed-skin>\\n<Scrafty> <has shape> <Upright>', doc_id='6a8ce074-9e22-4fe1-b916-0d5d53cd76e6', embedding=None, doc_hash='a24650c61c097f7c0bd39550d3781a66d7ebcc042181c3854c953568a2c19944', extra_info=None),\n",
       " Document(text='<Spectral Thief> <has maximum power points> <16>\\n<Spectral Thief> <has accuracy> <100>\\n<Spectral Thief> <has base power points> <10>\\n<Spectral Thief> <has Type> <Ghost>\\n<Spectral Thief> <has base power> <90>', doc_id='39d7c742-495d-46d7-b721-c123ba3b647f', embedding=None, doc_hash='5563ba6567fcd4fe7b91859db9a2d7c8d2e3ca7301edd8520ec8ff78b9d037e1', extra_info=None),\n",
       " Document(text='<Bounsweet> <in egg group> <Grass>\\n<Bounsweet> <has shape> <Legs>\\n<Bounsweet> <has Type> <Grass>\\n<Bounsweet> <may have hidden ability> <sweet-veil>\\n<Bounsweet> <may have ability> <oblivious>\\n<Bounsweet> <may have ability> <leaf-guard>\\n<Bounsweet> <has colour> <Purple>', doc_id='79b84f34-0068-4749-87a8-81c6d2f4811f', embedding=None, doc_hash='e7e6a23ca5500f916ad132a21a921126e61bd3b8d272f0e1f8f98e27ff128cf4', extra_info=None),\n",
       " Document(text='<Stonjourner> <in egg group> <Mineral>\\n<Stonjourner> <has Type> <Rock>\\n<Stonjourner> <has shape> <Legs>\\n<Stonjourner> <may have ability> <power-spot>\\n<Stonjourner> <has colour> <Gray>', doc_id='9e96be66-5dc4-4d34-b68a-280df112b90a', embedding=None, doc_hash='e958c05e0d34ca11ec6e5c0ce735baa5cd1c97f043a454dba35f3bb7f5bec118', extra_info=None)]"
      ]
     },
     "execution_count": 170,
     "metadata": {},
     "output_type": "execute_result"
    }
   ],
   "source": [
    "documents"
   ]
  },
  {
   "cell_type": "code",
   "execution_count": 136,
   "metadata": {},
   "outputs": [
    {
     "data": {
      "text/plain": [
       "[(rdflib.term.URIRef('https://pokemonkg.org/instance/pokemon/hitmonlee'),\n",
       "  rdflib.term.URIRef('https://pokemonkg.org/ontology#mayHaveAbility'),\n",
       "  rdflib.term.URIRef('https://pokemonkg.org/instance/ability/reckless')),\n",
       " (rdflib.term.URIRef('https://pokemonkg.org/instance/pokemon/hitmonlee'),\n",
       "  rdflib.term.URIRef('http://www.w3.org/2000/01/rdf-schema#comment'),\n",
       "  rdflib.term.Literal(\"Hitmonlee (Japanese: サワムラー Sawamular) is a Fighting-type Pokémon introduced in Generation I.\\nIt evolves from Tyrogue starting at level 20 when Tyrogue's Attack is higher than its Defense. It is one of Tyrogue's final forms, the others being Hitmonchan and Hitmontop.\", lang='en')),\n",
       " (rdflib.term.URIRef('https://pokemonkg.org/instance/pokemon/hitmonlee'),\n",
       "  rdflib.term.URIRef('https://pokemonkg.org/ontology#isAbleToApply'),\n",
       "  rdflib.term.URIRef('https://pokemonkg.org/instance/move/feint')),\n",
       " (rdflib.term.URIRef('https://pokemonkg.org/instance/pokemon/hitmonlee'),\n",
       "  rdflib.term.URIRef('https://pokemonkg.org/ontology#isAbleToApply'),\n",
       "  rdflib.term.URIRef('https://pokemonkg.org/instance/move/foresight')),\n",
       " (rdflib.term.URIRef('https://pokemonkg.org/instance/pokemon/hitmonlee'),\n",
       "  rdflib.term.URIRef('https://pokemonkg.org/ontology#hasCatchRate'),\n",
       "  rdflib.term.Literal('45', datatype=rdflib.term.URIRef('http://www.w3.org/2001/XMLSchema#integer'))),\n",
       " (rdflib.term.URIRef('https://pokemonkg.org/instance/pokemon/hitmonlee'),\n",
       "  rdflib.term.URIRef('http://www.w3.org/1999/02/22-rdf-syntax-ns#type'),\n",
       "  rdflib.term.URIRef('https://pokemonkg.org/ontology#Species')),\n",
       " (rdflib.term.URIRef('https://pokemonkg.org/instance/pokemon/hitmonlee'),\n",
       "  rdflib.term.URIRef('https://pokemonkg.org/ontology#mayHaveAbility'),\n",
       "  rdflib.term.URIRef('https://pokemonkg.org/instance/ability/limber')),\n",
       " (rdflib.term.URIRef('https://pokemonkg.org/instance/pokemon/hitmonlee'),\n",
       "  rdflib.term.URIRef('https://pokemonkg.org/ontology#isAbleToApply'),\n",
       "  rdflib.term.URIRef('https://pokemonkg.org/instance/move/reversal')),\n",
       " (rdflib.term.URIRef('https://pokemonkg.org/instance/pokemon/hitmonlee'),\n",
       "  rdflib.term.URIRef('https://pokemonkg.org/ontology#isAbleToApply'),\n",
       "  rdflib.term.URIRef('https://pokemonkg.org/instance/move/focus-energy')),\n",
       " (rdflib.term.URIRef('https://pokemonkg.org/instance/pokemon/hitmonlee'),\n",
       "  rdflib.term.URIRef('https://pokemonkg.org/ontology#isAbleToApply'),\n",
       "  rdflib.term.URIRef('https://pokemonkg.org/instance/move/close-combat')),\n",
       " (rdflib.term.URIRef('https://pokemonkg.org/instance/pokemon/hitmonlee'),\n",
       "  rdflib.term.URIRef('https://pokemonkg.org/ontology#isAbleToApply'),\n",
       "  rdflib.term.URIRef('https://pokemonkg.org/instance/move/jump-kick')),\n",
       " (rdflib.term.URIRef('https://pokemonkg.org/instance/pokemon/hitmonlee'),\n",
       "  rdflib.term.URIRef('https://pokemonkg.org/ontology#isAbleToApply'),\n",
       "  rdflib.term.URIRef('https://pokemonkg.org/instance/move/meditate')),\n",
       " (rdflib.term.URIRef('https://pokemonkg.org/instance/pokemon/hitmonlee'),\n",
       "  rdflib.term.URIRef('https://pokemonkg.org/ontology#isAbleToApply'),\n",
       "  rdflib.term.URIRef('https://pokemonkg.org/instance/move/blaze-kick')),\n",
       " (rdflib.term.URIRef('https://pokemonkg.org/instance/pokemon/hitmonlee'),\n",
       "  rdflib.term.URIRef('https://pokemonkg.org/ontology#isAbleToApply'),\n",
       "  rdflib.term.URIRef('https://pokemonkg.org/instance/move/rolling-kick')),\n",
       " (rdflib.term.URIRef('https://pokemonkg.org/instance/pokemon/hitmonlee'),\n",
       "  rdflib.term.URIRef('https://pokemonkg.org/ontology#hasHeight'),\n",
       "  rdflib.term.URIRef('https://pokemonkg.org/instance/pokemon/hitmonlee/height/quantity')),\n",
       " (rdflib.term.URIRef('https://pokemonkg.org/instance/pokemon/hitmonlee'),\n",
       "  rdflib.term.URIRef('https://pokemonkg.org/ontology#isAbleToApply'),\n",
       "  rdflib.term.URIRef('https://pokemonkg.org/instance/move/double-kick')),\n",
       " (rdflib.term.URIRef('https://pokemonkg.org/instance/pokemon/hitmonlee'),\n",
       "  rdflib.term.URIRef('https://pokemonkg.org/ontology#isAbleToApply'),\n",
       "  rdflib.term.URIRef('https://pokemonkg.org/instance/move/mind-reader')),\n",
       " (rdflib.term.URIRef('https://pokemonkg.org/instance/pokemon/hitmonlee'),\n",
       "  rdflib.term.URIRef('http://www.w3.org/2000/01/rdf-schema#label'),\n",
       "  rdflib.term.Literal('サワムラー', lang='jp')),\n",
       " (rdflib.term.URIRef('https://pokemonkg.org/instance/pokemon/hitmonlee'),\n",
       "  rdflib.term.URIRef('https://pokemonkg.org/ontology#hasWeight'),\n",
       "  rdflib.term.URIRef('https://pokemonkg.org/instance/pokemon/hitmonlee/weight/quantity')),\n",
       " (rdflib.term.URIRef('https://pokemonkg.org/instance/pokemon/hitmonlee'),\n",
       "  rdflib.term.URIRef('https://pokemonkg.org/ontology#hasColour'),\n",
       "  rdflib.term.URIRef('http://dbpedia.org/resource/Brown')),\n",
       " (rdflib.term.URIRef('https://pokemonkg.org/instance/pokemon/hitmonlee'),\n",
       "  rdflib.term.URIRef('https://pokemonkg.org/ontology#isAbleToApply'),\n",
       "  rdflib.term.URIRef('https://pokemonkg.org/instance/move/hi-jump-kick')),\n",
       " (rdflib.term.URIRef('https://pokemonkg.org/instance/pokemon/hitmonlee'),\n",
       "  rdflib.term.URIRef('https://pokemonkg.org/ontology#isAbleToApply'),\n",
       "  rdflib.term.URIRef('https://pokemonkg.org/instance/move/mega-kick')),\n",
       " (rdflib.term.URIRef('https://pokemonkg.org/instance/pokemon/hitmonlee'),\n",
       "  rdflib.term.URIRef('http://www.w3.org/2000/01/rdf-schema#label'),\n",
       "  rdflib.term.Literal('Hitmonlee', lang='en')),\n",
       " (rdflib.term.URIRef('https://pokemonkg.org/instance/pokemon/hitmonlee'),\n",
       "  rdflib.term.URIRef('https://pokemonkg.org/ontology#mayHaveHiddenAbility'),\n",
       "  rdflib.term.URIRef('https://pokemonkg.org/instance/ability/unburden')),\n",
       " (rdflib.term.URIRef('https://pokemonkg.org/instance/pokemon/hitmonlee'),\n",
       "  rdflib.term.URIRef('https://pokemonkg.org/ontology#isAbleToApply'),\n",
       "  rdflib.term.URIRef('https://pokemonkg.org/instance/move/brick-break')),\n",
       " (rdflib.term.URIRef('https://pokemonkg.org/instance/pokemon/hitmonlee'),\n",
       "  rdflib.term.URIRef('https://pokemonkg.org/ontology#hasType'),\n",
       "  rdflib.term.URIRef('https://pokemonkg.org/ontology#PokéType:Fighting')),\n",
       " (rdflib.term.URIRef('https://pokemonkg.org/instance/pokemon/hitmonlee'),\n",
       "  rdflib.term.URIRef('https://pokemonkg.org/ontology#isAbleToApply'),\n",
       "  rdflib.term.URIRef('https://pokemonkg.org/instance/move/endure')),\n",
       " (rdflib.term.URIRef('https://pokemonkg.org/instance/pokemon/hitmonlee'),\n",
       "  rdflib.term.URIRef('https://pokemonkg.org/ontology#inEggGroup'),\n",
       "  rdflib.term.URIRef('https://pokemonkg.org/ontology#EggGroup:Human-Like')),\n",
       " (rdflib.term.URIRef('https://pokemonkg.org/instance/pokemon/hitmonlee'),\n",
       "  rdflib.term.URIRef('https://pokemonkg.org/ontology#hasShape'),\n",
       "  rdflib.term.URIRef('https://pokemonkg.org/ontology#Shape:Humanoid')),\n",
       " (rdflib.term.URIRef('https://pokemonkg.org/instance/pokemon/hitmonlee'),\n",
       "  rdflib.term.URIRef('https://pokemonkg.org/ontology#isAbleToApply'),\n",
       "  rdflib.term.URIRef('https://pokemonkg.org/instance/move/revenge'))]"
      ]
     },
     "execution_count": 136,
     "metadata": {},
     "output_type": "execute_result"
    }
   ],
   "source": [
    "[x for x in document_graphs[0]]"
   ]
  },
  {
   "cell_type": "code",
   "execution_count": 171,
   "metadata": {},
   "outputs": [
    {
     "name": "stderr",
     "output_type": "stream",
     "text": [
      "Batches: 100%|██████████| 1/1 [00:00<00:00, 35.12it/s]\n"
     ]
    },
    {
     "ename": "NameError",
     "evalue": "name 'num_output' is not defined",
     "output_type": "error",
     "traceback": [
      "\u001b[0;31m---------------------------------------------------------------------------\u001b[0m",
      "\u001b[0;31mNameError\u001b[0m                                 Traceback (most recent call last)",
      "Cell \u001b[0;32mIn[171], line 2\u001b[0m\n\u001b[1;32m      1\u001b[0m \u001b[39m# Query and print response\u001b[39;00m\n\u001b[0;32m----> 2\u001b[0m response \u001b[39m=\u001b[39m index\u001b[39m.\u001b[39;49mquery(question)\n\u001b[1;32m      3\u001b[0m \u001b[39mprint\u001b[39m(response)\n",
      "File \u001b[0;32m/data/cyril/.cache/poetry/virtualenvs/aikg-URVQdnEY-py3.10/lib/python3.10/site-packages/llama_index/indices/base.py:260\u001b[0m, in \u001b[0;36mBaseGPTIndex.query\u001b[0;34m(self, query_str, mode, query_transform, use_async, **query_kwargs)\u001b[0m\n\u001b[1;32m    245\u001b[0m query_config \u001b[39m=\u001b[39m QueryConfig(\n\u001b[1;32m    246\u001b[0m     index_struct_type\u001b[39m=\u001b[39m\u001b[39mself\u001b[39m\u001b[39m.\u001b[39m_index_struct\u001b[39m.\u001b[39mget_type(),\n\u001b[1;32m    247\u001b[0m     query_mode\u001b[39m=\u001b[39mmode_enum,\n\u001b[1;32m    248\u001b[0m     query_kwargs\u001b[39m=\u001b[39mquery_kwargs,\n\u001b[1;32m    249\u001b[0m )\n\u001b[1;32m    250\u001b[0m query_runner \u001b[39m=\u001b[39m QueryRunner(\n\u001b[1;32m    251\u001b[0m     index_struct\u001b[39m=\u001b[39m\u001b[39mself\u001b[39m\u001b[39m.\u001b[39m_index_struct,\n\u001b[1;32m    252\u001b[0m     service_context\u001b[39m=\u001b[39m\u001b[39mself\u001b[39m\u001b[39m.\u001b[39m_service_context,\n\u001b[0;32m   (...)\u001b[0m\n\u001b[1;32m    258\u001b[0m     use_async\u001b[39m=\u001b[39muse_async,\n\u001b[1;32m    259\u001b[0m )\n\u001b[0;32m--> 260\u001b[0m \u001b[39mreturn\u001b[39;00m query_runner\u001b[39m.\u001b[39;49mquery(query_str)\n",
      "File \u001b[0;32m/data/cyril/.cache/poetry/virtualenvs/aikg-URVQdnEY-py3.10/lib/python3.10/site-packages/llama_index/indices/query/query_runner.py:349\u001b[0m, in \u001b[0;36mQueryRunner.query\u001b[0;34m(self, query_str_or_bundle, index_id, level)\u001b[0m\n\u001b[1;32m    331\u001b[0m \u001b[39m\u001b[39m\u001b[39m\"\"\"Run query.\u001b[39;00m\n\u001b[1;32m    332\u001b[0m \n\u001b[1;32m    333\u001b[0m \u001b[39mNOTE: Relies on mutual recursion between\u001b[39;00m\n\u001b[0;32m   (...)\u001b[0m\n\u001b[1;32m    344\u001b[0m \u001b[39m    composable graph.\u001b[39;00m\n\u001b[1;32m    345\u001b[0m \u001b[39m\"\"\"\u001b[39;00m\n\u001b[1;32m    346\u001b[0m query_combiner, query_bundle \u001b[39m=\u001b[39m \u001b[39mself\u001b[39m\u001b[39m.\u001b[39m_prepare_query_objects(\n\u001b[1;32m    347\u001b[0m     query_str_or_bundle, index_id\u001b[39m=\u001b[39mindex_id\n\u001b[1;32m    348\u001b[0m )\n\u001b[0;32m--> 349\u001b[0m \u001b[39mreturn\u001b[39;00m query_combiner\u001b[39m.\u001b[39;49mrun(query_bundle, level)\n",
      "File \u001b[0;32m/data/cyril/.cache/poetry/virtualenvs/aikg-URVQdnEY-py3.10/lib/python3.10/site-packages/llama_index/indices/query/query_combiner/base.py:68\u001b[0m, in \u001b[0;36mSingleQueryCombiner.run\u001b[0;34m(self, query_bundle, level)\u001b[0m\n\u001b[1;32m     66\u001b[0m \u001b[39m\u001b[39m\u001b[39m\"\"\"Run query combiner.\"\"\"\u001b[39;00m\n\u001b[1;32m     67\u001b[0m updated_query_bundle \u001b[39m=\u001b[39m \u001b[39mself\u001b[39m\u001b[39m.\u001b[39m_prepare_update(query_bundle)\n\u001b[0;32m---> 68\u001b[0m \u001b[39mreturn\u001b[39;00m \u001b[39mself\u001b[39;49m\u001b[39m.\u001b[39;49m_query_runner\u001b[39m.\u001b[39;49mquery_transformed(\n\u001b[1;32m     69\u001b[0m     updated_query_bundle, \u001b[39mself\u001b[39;49m\u001b[39m.\u001b[39;49m_index_struct, level\u001b[39m=\u001b[39;49mlevel\n\u001b[1;32m     70\u001b[0m )\n",
      "File \u001b[0;32m/data/cyril/.cache/poetry/virtualenvs/aikg-URVQdnEY-py3.10/lib/python3.10/site-packages/llama_index/indices/query/query_runner.py:209\u001b[0m, in \u001b[0;36mQueryRunner.query_transformed\u001b[0;34m(self, query_bundle, index_struct, level)\u001b[0m\n\u001b[1;32m    207\u001b[0m     \u001b[39mreturn\u001b[39;00m response\n\u001b[1;32m    208\u001b[0m \u001b[39melse\u001b[39;00m:\n\u001b[0;32m--> 209\u001b[0m     \u001b[39mreturn\u001b[39;00m query_obj\u001b[39m.\u001b[39;49mquery(query_bundle)\n",
      "File \u001b[0;32m/data/cyril/.cache/poetry/virtualenvs/aikg-URVQdnEY-py3.10/lib/python3.10/site-packages/llama_index/token_counter/token_counter.py:78\u001b[0m, in \u001b[0;36mllm_token_counter.<locals>.wrap.<locals>.wrapped_llm_predict\u001b[0;34m(_self, *args, **kwargs)\u001b[0m\n\u001b[1;32m     76\u001b[0m \u001b[39mdef\u001b[39;00m \u001b[39mwrapped_llm_predict\u001b[39m(_self: Any, \u001b[39m*\u001b[39margs: Any, \u001b[39m*\u001b[39m\u001b[39m*\u001b[39mkwargs: Any) \u001b[39m-\u001b[39m\u001b[39m>\u001b[39m Any:\n\u001b[1;32m     77\u001b[0m     \u001b[39mwith\u001b[39;00m wrapper_logic(_self):\n\u001b[0;32m---> 78\u001b[0m         f_return_val \u001b[39m=\u001b[39m f(_self, \u001b[39m*\u001b[39;49margs, \u001b[39m*\u001b[39;49m\u001b[39m*\u001b[39;49mkwargs)\n\u001b[1;32m     80\u001b[0m     \u001b[39mreturn\u001b[39;00m f_return_val\n",
      "File \u001b[0;32m/data/cyril/.cache/poetry/virtualenvs/aikg-URVQdnEY-py3.10/lib/python3.10/site-packages/llama_index/indices/query/base.py:207\u001b[0m, in \u001b[0;36mBaseGPTIndexQuery.query\u001b[0;34m(self, query_bundle)\u001b[0m\n\u001b[1;32m    205\u001b[0m \u001b[39m# TODO: support include summary\u001b[39;00m\n\u001b[1;32m    206\u001b[0m nodes \u001b[39m=\u001b[39m \u001b[39mself\u001b[39m\u001b[39m.\u001b[39mretrieve(query_bundle)\n\u001b[0;32m--> 207\u001b[0m \u001b[39mreturn\u001b[39;00m \u001b[39mself\u001b[39;49m\u001b[39m.\u001b[39;49msynthesize(query_bundle, nodes)\n",
      "File \u001b[0;32m/data/cyril/.cache/poetry/virtualenvs/aikg-URVQdnEY-py3.10/lib/python3.10/site-packages/llama_index/indices/query/base.py:184\u001b[0m, in \u001b[0;36mBaseGPTIndexQuery.synthesize\u001b[0;34m(self, query_bundle, nodes, additional_source_nodes)\u001b[0m\n\u001b[1;32m    178\u001b[0m \u001b[39mdef\u001b[39;00m \u001b[39msynthesize\u001b[39m(\n\u001b[1;32m    179\u001b[0m     \u001b[39mself\u001b[39m,\n\u001b[1;32m    180\u001b[0m     query_bundle: QueryBundle,\n\u001b[1;32m    181\u001b[0m     nodes: Sequence[NodeWithScore],\n\u001b[1;32m    182\u001b[0m     additional_source_nodes: Optional[Sequence[NodeWithScore]] \u001b[39m=\u001b[39m \u001b[39mNone\u001b[39;00m,\n\u001b[1;32m    183\u001b[0m ) \u001b[39m-\u001b[39m\u001b[39m>\u001b[39m RESPONSE_TYPE:\n\u001b[0;32m--> 184\u001b[0m     \u001b[39mreturn\u001b[39;00m \u001b[39mself\u001b[39;49m\u001b[39m.\u001b[39;49m_response_synthesizer\u001b[39m.\u001b[39;49msynthesize(\n\u001b[1;32m    185\u001b[0m         query_bundle\u001b[39m=\u001b[39;49mquery_bundle,\n\u001b[1;32m    186\u001b[0m         nodes\u001b[39m=\u001b[39;49mnodes,\n\u001b[1;32m    187\u001b[0m         additional_source_nodes\u001b[39m=\u001b[39;49madditional_source_nodes,\n\u001b[1;32m    188\u001b[0m     )\n",
      "File \u001b[0;32m/data/cyril/.cache/poetry/virtualenvs/aikg-URVQdnEY-py3.10/lib/python3.10/site-packages/llama_index/indices/response/response_synthesis.py:123\u001b[0m, in \u001b[0;36mResponseSynthesizer.synthesize\u001b[0;34m(self, query_bundle, nodes, additional_source_nodes)\u001b[0m\n\u001b[1;32m    121\u001b[0m \u001b[39mif\u001b[39;00m \u001b[39mself\u001b[39m\u001b[39m.\u001b[39m_response_mode \u001b[39m!=\u001b[39m ResponseMode\u001b[39m.\u001b[39mNO_TEXT:\n\u001b[1;32m    122\u001b[0m     \u001b[39massert\u001b[39;00m \u001b[39mself\u001b[39m\u001b[39m.\u001b[39m_response_builder \u001b[39mis\u001b[39;00m \u001b[39mnot\u001b[39;00m \u001b[39mNone\u001b[39;00m\n\u001b[0;32m--> 123\u001b[0m     response_str \u001b[39m=\u001b[39m \u001b[39mself\u001b[39;49m\u001b[39m.\u001b[39;49m_response_builder\u001b[39m.\u001b[39;49mget_response(\n\u001b[1;32m    124\u001b[0m         query_str\u001b[39m=\u001b[39;49mquery_bundle\u001b[39m.\u001b[39;49mquery_str,\n\u001b[1;32m    125\u001b[0m         text_chunks\u001b[39m=\u001b[39;49mtext_chunks,\n\u001b[1;32m    126\u001b[0m         \u001b[39m*\u001b[39;49m\u001b[39m*\u001b[39;49m\u001b[39mself\u001b[39;49m\u001b[39m.\u001b[39;49m_response_kwargs,\n\u001b[1;32m    127\u001b[0m     )\n\u001b[1;32m    128\u001b[0m \u001b[39melse\u001b[39;00m:\n\u001b[1;32m    129\u001b[0m     response_str \u001b[39m=\u001b[39m \u001b[39mNone\u001b[39;00m\n",
      "File \u001b[0;32m/data/cyril/.cache/poetry/virtualenvs/aikg-URVQdnEY-py3.10/lib/python3.10/site-packages/llama_index/indices/response/response_builder.py:125\u001b[0m, in \u001b[0;36mRefine.get_response\u001b[0;34m(self, query_str, text_chunks, prev_response, **response_kwargs)\u001b[0m\n\u001b[1;32m    121\u001b[0m \u001b[39mfor\u001b[39;00m text_chunk \u001b[39min\u001b[39;00m text_chunks:\n\u001b[1;32m    122\u001b[0m     \u001b[39mif\u001b[39;00m prev_response_obj \u001b[39mis\u001b[39;00m \u001b[39mNone\u001b[39;00m:\n\u001b[1;32m    123\u001b[0m         \u001b[39m# if this is the first chunk, and text chunk already\u001b[39;00m\n\u001b[1;32m    124\u001b[0m         \u001b[39m# is an answer, then return it\u001b[39;00m\n\u001b[0;32m--> 125\u001b[0m         response \u001b[39m=\u001b[39m \u001b[39mself\u001b[39;49m\u001b[39m.\u001b[39;49m_give_response_single(\n\u001b[1;32m    126\u001b[0m             query_str,\n\u001b[1;32m    127\u001b[0m             text_chunk,\n\u001b[1;32m    128\u001b[0m         )\n\u001b[1;32m    129\u001b[0m     \u001b[39melse\u001b[39;00m:\n\u001b[1;32m    130\u001b[0m         response \u001b[39m=\u001b[39m \u001b[39mself\u001b[39m\u001b[39m.\u001b[39m_refine_response_single(\n\u001b[1;32m    131\u001b[0m             prev_response_obj, query_str, text_chunk\n\u001b[1;32m    132\u001b[0m         )\n",
      "File \u001b[0;32m/data/cyril/.cache/poetry/virtualenvs/aikg-URVQdnEY-py3.10/lib/python3.10/site-packages/llama_index/indices/response/response_builder.py:161\u001b[0m, in \u001b[0;36mRefine._give_response_single\u001b[0;34m(self, query_str, text_chunk, **response_kwargs)\u001b[0m\n\u001b[1;32m    156\u001b[0m \u001b[39mfor\u001b[39;00m cur_text_chunk \u001b[39min\u001b[39;00m text_chunks:\n\u001b[1;32m    157\u001b[0m     \u001b[39mif\u001b[39;00m response \u001b[39mis\u001b[39;00m \u001b[39mNone\u001b[39;00m \u001b[39mand\u001b[39;00m \u001b[39mnot\u001b[39;00m \u001b[39mself\u001b[39m\u001b[39m.\u001b[39m_streaming:\n\u001b[1;32m    158\u001b[0m         (\n\u001b[1;32m    159\u001b[0m             response,\n\u001b[1;32m    160\u001b[0m             formatted_prompt,\n\u001b[0;32m--> 161\u001b[0m         ) \u001b[39m=\u001b[39m \u001b[39mself\u001b[39;49m\u001b[39m.\u001b[39;49m_service_context\u001b[39m.\u001b[39;49mllm_predictor\u001b[39m.\u001b[39;49mpredict(\n\u001b[1;32m    162\u001b[0m             text_qa_template,\n\u001b[1;32m    163\u001b[0m             context_str\u001b[39m=\u001b[39;49mcur_text_chunk,\n\u001b[1;32m    164\u001b[0m         )\n\u001b[1;32m    165\u001b[0m         \u001b[39mself\u001b[39m\u001b[39m.\u001b[39m_log_prompt_and_response(\n\u001b[1;32m    166\u001b[0m             formatted_prompt, response, log_prefix\u001b[39m=\u001b[39m\u001b[39m\"\u001b[39m\u001b[39mInitial\u001b[39m\u001b[39m\"\u001b[39m\n\u001b[1;32m    167\u001b[0m         )\n\u001b[1;32m    168\u001b[0m     \u001b[39melif\u001b[39;00m response \u001b[39mis\u001b[39;00m \u001b[39mNone\u001b[39;00m \u001b[39mand\u001b[39;00m \u001b[39mself\u001b[39m\u001b[39m.\u001b[39m_streaming:\n",
      "File \u001b[0;32m/data/cyril/.cache/poetry/virtualenvs/aikg-URVQdnEY-py3.10/lib/python3.10/site-packages/llama_index/llm_predictor/base.py:223\u001b[0m, in \u001b[0;36mLLMPredictor.predict\u001b[0;34m(self, prompt, **prompt_args)\u001b[0m\n\u001b[1;32m    213\u001b[0m \u001b[39m\u001b[39m\u001b[39m\"\"\"Predict the answer to a query.\u001b[39;00m\n\u001b[1;32m    214\u001b[0m \n\u001b[1;32m    215\u001b[0m \u001b[39mArgs:\u001b[39;00m\n\u001b[0;32m   (...)\u001b[0m\n\u001b[1;32m    220\u001b[0m \n\u001b[1;32m    221\u001b[0m \u001b[39m\"\"\"\u001b[39;00m\n\u001b[1;32m    222\u001b[0m formatted_prompt \u001b[39m=\u001b[39m prompt\u001b[39m.\u001b[39mformat(llm\u001b[39m=\u001b[39m\u001b[39mself\u001b[39m\u001b[39m.\u001b[39m_llm, \u001b[39m*\u001b[39m\u001b[39m*\u001b[39mprompt_args)\n\u001b[0;32m--> 223\u001b[0m llm_prediction \u001b[39m=\u001b[39m \u001b[39mself\u001b[39;49m\u001b[39m.\u001b[39;49m_predict(prompt, \u001b[39m*\u001b[39;49m\u001b[39m*\u001b[39;49mprompt_args)\n\u001b[1;32m    224\u001b[0m logger\u001b[39m.\u001b[39mdebug(llm_prediction)\n\u001b[1;32m    226\u001b[0m \u001b[39m# We assume that the value of formatted_prompt is exactly the thing\u001b[39;00m\n\u001b[1;32m    227\u001b[0m \u001b[39m# eventually sent to OpenAI, or whatever LLM downstream\u001b[39;00m\n",
      "File \u001b[0;32m/data/cyril/.cache/poetry/virtualenvs/aikg-URVQdnEY-py3.10/lib/python3.10/site-packages/llama_index/llm_predictor/base.py:197\u001b[0m, in \u001b[0;36mLLMPredictor._predict\u001b[0;34m(self, prompt, **prompt_args)\u001b[0m\n\u001b[1;32m    195\u001b[0m full_prompt_args \u001b[39m=\u001b[39m prompt\u001b[39m.\u001b[39mget_full_format_args(prompt_args)\n\u001b[1;32m    196\u001b[0m \u001b[39mif\u001b[39;00m \u001b[39mself\u001b[39m\u001b[39m.\u001b[39mretry_on_throttling:\n\u001b[0;32m--> 197\u001b[0m     llm_prediction \u001b[39m=\u001b[39m retry_on_exceptions_with_backoff(\n\u001b[1;32m    198\u001b[0m         \u001b[39mlambda\u001b[39;49;00m: llm_chain\u001b[39m.\u001b[39;49mpredict(\u001b[39m*\u001b[39;49m\u001b[39m*\u001b[39;49mfull_prompt_args),\n\u001b[1;32m    199\u001b[0m         [\n\u001b[1;32m    200\u001b[0m             ErrorToRetry(openai\u001b[39m.\u001b[39;49merror\u001b[39m.\u001b[39;49mRateLimitError),\n\u001b[1;32m    201\u001b[0m             ErrorToRetry(openai\u001b[39m.\u001b[39;49merror\u001b[39m.\u001b[39;49mServiceUnavailableError),\n\u001b[1;32m    202\u001b[0m             ErrorToRetry(openai\u001b[39m.\u001b[39;49merror\u001b[39m.\u001b[39;49mTryAgain),\n\u001b[1;32m    203\u001b[0m             ErrorToRetry(\n\u001b[1;32m    204\u001b[0m                 openai\u001b[39m.\u001b[39;49merror\u001b[39m.\u001b[39;49mAPIConnectionError, \u001b[39mlambda\u001b[39;49;00m e: e\u001b[39m.\u001b[39;49mshould_retry\n\u001b[1;32m    205\u001b[0m             ),\n\u001b[1;32m    206\u001b[0m         ],\n\u001b[1;32m    207\u001b[0m     )\n\u001b[1;32m    208\u001b[0m \u001b[39melse\u001b[39;00m:\n\u001b[1;32m    209\u001b[0m     llm_prediction \u001b[39m=\u001b[39m llm_chain\u001b[39m.\u001b[39mpredict(\u001b[39m*\u001b[39m\u001b[39m*\u001b[39mfull_prompt_args)\n",
      "File \u001b[0;32m/data/cyril/.cache/poetry/virtualenvs/aikg-URVQdnEY-py3.10/lib/python3.10/site-packages/llama_index/utils.py:177\u001b[0m, in \u001b[0;36mretry_on_exceptions_with_backoff\u001b[0;34m(lambda_fn, errors_to_retry, max_tries, min_backoff_secs, max_backoff_secs)\u001b[0m\n\u001b[1;32m    175\u001b[0m \u001b[39mwhile\u001b[39;00m \u001b[39mTrue\u001b[39;00m:\n\u001b[1;32m    176\u001b[0m     \u001b[39mtry\u001b[39;00m:\n\u001b[0;32m--> 177\u001b[0m         \u001b[39mreturn\u001b[39;00m lambda_fn()\n\u001b[1;32m    178\u001b[0m     \u001b[39mexcept\u001b[39;00m exception_class_tuples \u001b[39mas\u001b[39;00m e:\n\u001b[1;32m    179\u001b[0m         traceback\u001b[39m.\u001b[39mprint_exc()\n",
      "File \u001b[0;32m/data/cyril/.cache/poetry/virtualenvs/aikg-URVQdnEY-py3.10/lib/python3.10/site-packages/llama_index/llm_predictor/base.py:198\u001b[0m, in \u001b[0;36mLLMPredictor._predict.<locals>.<lambda>\u001b[0;34m()\u001b[0m\n\u001b[1;32m    195\u001b[0m full_prompt_args \u001b[39m=\u001b[39m prompt\u001b[39m.\u001b[39mget_full_format_args(prompt_args)\n\u001b[1;32m    196\u001b[0m \u001b[39mif\u001b[39;00m \u001b[39mself\u001b[39m\u001b[39m.\u001b[39mretry_on_throttling:\n\u001b[1;32m    197\u001b[0m     llm_prediction \u001b[39m=\u001b[39m retry_on_exceptions_with_backoff(\n\u001b[0;32m--> 198\u001b[0m         \u001b[39mlambda\u001b[39;00m: llm_chain\u001b[39m.\u001b[39;49mpredict(\u001b[39m*\u001b[39;49m\u001b[39m*\u001b[39;49mfull_prompt_args),\n\u001b[1;32m    199\u001b[0m         [\n\u001b[1;32m    200\u001b[0m             ErrorToRetry(openai\u001b[39m.\u001b[39merror\u001b[39m.\u001b[39mRateLimitError),\n\u001b[1;32m    201\u001b[0m             ErrorToRetry(openai\u001b[39m.\u001b[39merror\u001b[39m.\u001b[39mServiceUnavailableError),\n\u001b[1;32m    202\u001b[0m             ErrorToRetry(openai\u001b[39m.\u001b[39merror\u001b[39m.\u001b[39mTryAgain),\n\u001b[1;32m    203\u001b[0m             ErrorToRetry(\n\u001b[1;32m    204\u001b[0m                 openai\u001b[39m.\u001b[39merror\u001b[39m.\u001b[39mAPIConnectionError, \u001b[39mlambda\u001b[39;00m e: e\u001b[39m.\u001b[39mshould_retry\n\u001b[1;32m    205\u001b[0m             ),\n\u001b[1;32m    206\u001b[0m         ],\n\u001b[1;32m    207\u001b[0m     )\n\u001b[1;32m    208\u001b[0m \u001b[39melse\u001b[39;00m:\n\u001b[1;32m    209\u001b[0m     llm_prediction \u001b[39m=\u001b[39m llm_chain\u001b[39m.\u001b[39mpredict(\u001b[39m*\u001b[39m\u001b[39m*\u001b[39mfull_prompt_args)\n",
      "File \u001b[0;32m/data/cyril/.cache/poetry/virtualenvs/aikg-URVQdnEY-py3.10/lib/python3.10/site-packages/langchain/chains/llm.py:151\u001b[0m, in \u001b[0;36mLLMChain.predict\u001b[0;34m(self, **kwargs)\u001b[0m\n\u001b[1;32m    137\u001b[0m \u001b[39mdef\u001b[39;00m \u001b[39mpredict\u001b[39m(\u001b[39mself\u001b[39m, \u001b[39m*\u001b[39m\u001b[39m*\u001b[39mkwargs: Any) \u001b[39m-\u001b[39m\u001b[39m>\u001b[39m \u001b[39mstr\u001b[39m:\n\u001b[1;32m    138\u001b[0m \u001b[39m    \u001b[39m\u001b[39m\"\"\"Format prompt with kwargs and pass to LLM.\u001b[39;00m\n\u001b[1;32m    139\u001b[0m \n\u001b[1;32m    140\u001b[0m \u001b[39m    Args:\u001b[39;00m\n\u001b[0;32m   (...)\u001b[0m\n\u001b[1;32m    149\u001b[0m \u001b[39m            completion = llm.predict(adjective=\"funny\")\u001b[39;00m\n\u001b[1;32m    150\u001b[0m \u001b[39m    \"\"\"\u001b[39;00m\n\u001b[0;32m--> 151\u001b[0m     \u001b[39mreturn\u001b[39;00m \u001b[39mself\u001b[39;49m(kwargs)[\u001b[39mself\u001b[39m\u001b[39m.\u001b[39moutput_key]\n",
      "File \u001b[0;32m/data/cyril/.cache/poetry/virtualenvs/aikg-URVQdnEY-py3.10/lib/python3.10/site-packages/langchain/chains/base.py:116\u001b[0m, in \u001b[0;36mChain.__call__\u001b[0;34m(self, inputs, return_only_outputs)\u001b[0m\n\u001b[1;32m    114\u001b[0m \u001b[39mexcept\u001b[39;00m (\u001b[39mKeyboardInterrupt\u001b[39;00m, \u001b[39mException\u001b[39;00m) \u001b[39mas\u001b[39;00m e:\n\u001b[1;32m    115\u001b[0m     \u001b[39mself\u001b[39m\u001b[39m.\u001b[39mcallback_manager\u001b[39m.\u001b[39mon_chain_error(e, verbose\u001b[39m=\u001b[39m\u001b[39mself\u001b[39m\u001b[39m.\u001b[39mverbose)\n\u001b[0;32m--> 116\u001b[0m     \u001b[39mraise\u001b[39;00m e\n\u001b[1;32m    117\u001b[0m \u001b[39mself\u001b[39m\u001b[39m.\u001b[39mcallback_manager\u001b[39m.\u001b[39mon_chain_end(outputs, verbose\u001b[39m=\u001b[39m\u001b[39mself\u001b[39m\u001b[39m.\u001b[39mverbose)\n\u001b[1;32m    118\u001b[0m \u001b[39mreturn\u001b[39;00m \u001b[39mself\u001b[39m\u001b[39m.\u001b[39mprep_outputs(inputs, outputs, return_only_outputs)\n",
      "File \u001b[0;32m/data/cyril/.cache/poetry/virtualenvs/aikg-URVQdnEY-py3.10/lib/python3.10/site-packages/langchain/chains/base.py:113\u001b[0m, in \u001b[0;36mChain.__call__\u001b[0;34m(self, inputs, return_only_outputs)\u001b[0m\n\u001b[1;32m    107\u001b[0m \u001b[39mself\u001b[39m\u001b[39m.\u001b[39mcallback_manager\u001b[39m.\u001b[39mon_chain_start(\n\u001b[1;32m    108\u001b[0m     {\u001b[39m\"\u001b[39m\u001b[39mname\u001b[39m\u001b[39m\"\u001b[39m: \u001b[39mself\u001b[39m\u001b[39m.\u001b[39m\u001b[39m__class__\u001b[39m\u001b[39m.\u001b[39m\u001b[39m__name__\u001b[39m},\n\u001b[1;32m    109\u001b[0m     inputs,\n\u001b[1;32m    110\u001b[0m     verbose\u001b[39m=\u001b[39m\u001b[39mself\u001b[39m\u001b[39m.\u001b[39mverbose,\n\u001b[1;32m    111\u001b[0m )\n\u001b[1;32m    112\u001b[0m \u001b[39mtry\u001b[39;00m:\n\u001b[0;32m--> 113\u001b[0m     outputs \u001b[39m=\u001b[39m \u001b[39mself\u001b[39;49m\u001b[39m.\u001b[39;49m_call(inputs)\n\u001b[1;32m    114\u001b[0m \u001b[39mexcept\u001b[39;00m (\u001b[39mKeyboardInterrupt\u001b[39;00m, \u001b[39mException\u001b[39;00m) \u001b[39mas\u001b[39;00m e:\n\u001b[1;32m    115\u001b[0m     \u001b[39mself\u001b[39m\u001b[39m.\u001b[39mcallback_manager\u001b[39m.\u001b[39mon_chain_error(e, verbose\u001b[39m=\u001b[39m\u001b[39mself\u001b[39m\u001b[39m.\u001b[39mverbose)\n",
      "File \u001b[0;32m/data/cyril/.cache/poetry/virtualenvs/aikg-URVQdnEY-py3.10/lib/python3.10/site-packages/langchain/chains/llm.py:57\u001b[0m, in \u001b[0;36mLLMChain._call\u001b[0;34m(self, inputs)\u001b[0m\n\u001b[1;32m     56\u001b[0m \u001b[39mdef\u001b[39;00m \u001b[39m_call\u001b[39m(\u001b[39mself\u001b[39m, inputs: Dict[\u001b[39mstr\u001b[39m, Any]) \u001b[39m-\u001b[39m\u001b[39m>\u001b[39m Dict[\u001b[39mstr\u001b[39m, \u001b[39mstr\u001b[39m]:\n\u001b[0;32m---> 57\u001b[0m     \u001b[39mreturn\u001b[39;00m \u001b[39mself\u001b[39;49m\u001b[39m.\u001b[39;49mapply([inputs])[\u001b[39m0\u001b[39m]\n",
      "File \u001b[0;32m/data/cyril/.cache/poetry/virtualenvs/aikg-URVQdnEY-py3.10/lib/python3.10/site-packages/langchain/chains/llm.py:118\u001b[0m, in \u001b[0;36mLLMChain.apply\u001b[0;34m(self, input_list)\u001b[0m\n\u001b[1;32m    116\u001b[0m \u001b[39mdef\u001b[39;00m \u001b[39mapply\u001b[39m(\u001b[39mself\u001b[39m, input_list: List[Dict[\u001b[39mstr\u001b[39m, Any]]) \u001b[39m-\u001b[39m\u001b[39m>\u001b[39m List[Dict[\u001b[39mstr\u001b[39m, \u001b[39mstr\u001b[39m]]:\n\u001b[1;32m    117\u001b[0m \u001b[39m    \u001b[39m\u001b[39m\"\"\"Utilize the LLM generate method for speed gains.\"\"\"\u001b[39;00m\n\u001b[0;32m--> 118\u001b[0m     response \u001b[39m=\u001b[39m \u001b[39mself\u001b[39;49m\u001b[39m.\u001b[39;49mgenerate(input_list)\n\u001b[1;32m    119\u001b[0m     \u001b[39mreturn\u001b[39;00m \u001b[39mself\u001b[39m\u001b[39m.\u001b[39mcreate_outputs(response)\n",
      "File \u001b[0;32m/data/cyril/.cache/poetry/virtualenvs/aikg-URVQdnEY-py3.10/lib/python3.10/site-packages/langchain/chains/llm.py:62\u001b[0m, in \u001b[0;36mLLMChain.generate\u001b[0;34m(self, input_list)\u001b[0m\n\u001b[1;32m     60\u001b[0m \u001b[39m\u001b[39m\u001b[39m\"\"\"Generate LLM result from inputs.\"\"\"\u001b[39;00m\n\u001b[1;32m     61\u001b[0m prompts, stop \u001b[39m=\u001b[39m \u001b[39mself\u001b[39m\u001b[39m.\u001b[39mprep_prompts(input_list)\n\u001b[0;32m---> 62\u001b[0m \u001b[39mreturn\u001b[39;00m \u001b[39mself\u001b[39;49m\u001b[39m.\u001b[39;49mllm\u001b[39m.\u001b[39;49mgenerate_prompt(prompts, stop)\n",
      "File \u001b[0;32m/data/cyril/.cache/poetry/virtualenvs/aikg-URVQdnEY-py3.10/lib/python3.10/site-packages/langchain/llms/base.py:107\u001b[0m, in \u001b[0;36mBaseLLM.generate_prompt\u001b[0;34m(self, prompts, stop)\u001b[0m\n\u001b[1;32m    103\u001b[0m \u001b[39mdef\u001b[39;00m \u001b[39mgenerate_prompt\u001b[39m(\n\u001b[1;32m    104\u001b[0m     \u001b[39mself\u001b[39m, prompts: List[PromptValue], stop: Optional[List[\u001b[39mstr\u001b[39m]] \u001b[39m=\u001b[39m \u001b[39mNone\u001b[39;00m\n\u001b[1;32m    105\u001b[0m ) \u001b[39m-\u001b[39m\u001b[39m>\u001b[39m LLMResult:\n\u001b[1;32m    106\u001b[0m     prompt_strings \u001b[39m=\u001b[39m [p\u001b[39m.\u001b[39mto_string() \u001b[39mfor\u001b[39;00m p \u001b[39min\u001b[39;00m prompts]\n\u001b[0;32m--> 107\u001b[0m     \u001b[39mreturn\u001b[39;00m \u001b[39mself\u001b[39;49m\u001b[39m.\u001b[39;49mgenerate(prompt_strings, stop\u001b[39m=\u001b[39;49mstop)\n",
      "File \u001b[0;32m/data/cyril/.cache/poetry/virtualenvs/aikg-URVQdnEY-py3.10/lib/python3.10/site-packages/langchain/llms/base.py:140\u001b[0m, in \u001b[0;36mBaseLLM.generate\u001b[0;34m(self, prompts, stop)\u001b[0m\n\u001b[1;32m    138\u001b[0m \u001b[39mexcept\u001b[39;00m (\u001b[39mKeyboardInterrupt\u001b[39;00m, \u001b[39mException\u001b[39;00m) \u001b[39mas\u001b[39;00m e:\n\u001b[1;32m    139\u001b[0m     \u001b[39mself\u001b[39m\u001b[39m.\u001b[39mcallback_manager\u001b[39m.\u001b[39mon_llm_error(e, verbose\u001b[39m=\u001b[39m\u001b[39mself\u001b[39m\u001b[39m.\u001b[39mverbose)\n\u001b[0;32m--> 140\u001b[0m     \u001b[39mraise\u001b[39;00m e\n\u001b[1;32m    141\u001b[0m \u001b[39mself\u001b[39m\u001b[39m.\u001b[39mcallback_manager\u001b[39m.\u001b[39mon_llm_end(output, verbose\u001b[39m=\u001b[39m\u001b[39mself\u001b[39m\u001b[39m.\u001b[39mverbose)\n\u001b[1;32m    142\u001b[0m \u001b[39mreturn\u001b[39;00m output\n",
      "File \u001b[0;32m/data/cyril/.cache/poetry/virtualenvs/aikg-URVQdnEY-py3.10/lib/python3.10/site-packages/langchain/llms/base.py:137\u001b[0m, in \u001b[0;36mBaseLLM.generate\u001b[0;34m(self, prompts, stop)\u001b[0m\n\u001b[1;32m    133\u001b[0m \u001b[39mself\u001b[39m\u001b[39m.\u001b[39mcallback_manager\u001b[39m.\u001b[39mon_llm_start(\n\u001b[1;32m    134\u001b[0m     {\u001b[39m\"\u001b[39m\u001b[39mname\u001b[39m\u001b[39m\"\u001b[39m: \u001b[39mself\u001b[39m\u001b[39m.\u001b[39m\u001b[39m__class__\u001b[39m\u001b[39m.\u001b[39m\u001b[39m__name__\u001b[39m}, prompts, verbose\u001b[39m=\u001b[39m\u001b[39mself\u001b[39m\u001b[39m.\u001b[39mverbose\n\u001b[1;32m    135\u001b[0m )\n\u001b[1;32m    136\u001b[0m \u001b[39mtry\u001b[39;00m:\n\u001b[0;32m--> 137\u001b[0m     output \u001b[39m=\u001b[39m \u001b[39mself\u001b[39;49m\u001b[39m.\u001b[39;49m_generate(prompts, stop\u001b[39m=\u001b[39;49mstop)\n\u001b[1;32m    138\u001b[0m \u001b[39mexcept\u001b[39;00m (\u001b[39mKeyboardInterrupt\u001b[39;00m, \u001b[39mException\u001b[39;00m) \u001b[39mas\u001b[39;00m e:\n\u001b[1;32m    139\u001b[0m     \u001b[39mself\u001b[39m\u001b[39m.\u001b[39mcallback_manager\u001b[39m.\u001b[39mon_llm_error(e, verbose\u001b[39m=\u001b[39m\u001b[39mself\u001b[39m\u001b[39m.\u001b[39mverbose)\n",
      "File \u001b[0;32m/data/cyril/.cache/poetry/virtualenvs/aikg-URVQdnEY-py3.10/lib/python3.10/site-packages/langchain/llms/base.py:324\u001b[0m, in \u001b[0;36mLLM._generate\u001b[0;34m(self, prompts, stop)\u001b[0m\n\u001b[1;32m    322\u001b[0m generations \u001b[39m=\u001b[39m []\n\u001b[1;32m    323\u001b[0m \u001b[39mfor\u001b[39;00m prompt \u001b[39min\u001b[39;00m prompts:\n\u001b[0;32m--> 324\u001b[0m     text \u001b[39m=\u001b[39m \u001b[39mself\u001b[39;49m\u001b[39m.\u001b[39;49m_call(prompt, stop\u001b[39m=\u001b[39;49mstop)\n\u001b[1;32m    325\u001b[0m     generations\u001b[39m.\u001b[39mappend([Generation(text\u001b[39m=\u001b[39mtext)])\n\u001b[1;32m    326\u001b[0m \u001b[39mreturn\u001b[39;00m LLMResult(generations\u001b[39m=\u001b[39mgenerations)\n",
      "File \u001b[0;32m~/Repos/github.com/SDSC-ORD/kg-llm-interface/aikg/utils/llm.py:19\u001b[0m, in \u001b[0;36mCustomLLM._call\u001b[0;34m(self, prompt, stop)\u001b[0m\n\u001b[1;32m     17\u001b[0m \u001b[39mdef\u001b[39;00m \u001b[39m_call\u001b[39m(\u001b[39mself\u001b[39m, prompt: \u001b[39mstr\u001b[39m, stop: Optional[List[\u001b[39mstr\u001b[39m]] \u001b[39m=\u001b[39m \u001b[39mNone\u001b[39;00m) \u001b[39m-\u001b[39m\u001b[39m>\u001b[39m \u001b[39mstr\u001b[39m:\n\u001b[1;32m     18\u001b[0m     prompt_length \u001b[39m=\u001b[39m \u001b[39mlen\u001b[39m(prompt)\n\u001b[0;32m---> 19\u001b[0m     response \u001b[39m=\u001b[39m \u001b[39mself\u001b[39m\u001b[39m.\u001b[39mpipeline(prompt, max_new_tokens\u001b[39m=\u001b[39mnum_output)[\u001b[39m0\u001b[39m][\u001b[39m\"\u001b[39m\u001b[39mgenerated_text\u001b[39m\u001b[39m\"\u001b[39m]\n\u001b[1;32m     21\u001b[0m     \u001b[39m# only return newly generated tokens\u001b[39;00m\n\u001b[1;32m     22\u001b[0m     \u001b[39mreturn\u001b[39;00m response[prompt_length:]\n",
      "\u001b[0;31mNameError\u001b[0m: name 'num_output' is not defined"
     ]
    }
   ],
   "source": [
    "\n",
    "# Query and print response\n",
    "response = index.query(question)\n",
    "print(response)"
   ]
  }
 ],
 "metadata": {
  "kernelspec": {
   "display_name": "kg-llm-interface-URVQdnEY-py3.10",
   "language": "python",
   "name": "python3"
  },
  "language_info": {
   "codemirror_mode": {
    "name": "ipython",
    "version": 3
   },
   "file_extension": ".py",
   "mimetype": "text/x-python",
   "name": "python",
   "nbconvert_exporter": "python",
   "pygments_lexer": "ipython3",
   "version": "3.10.9"
  },
  "orig_nbformat": 4
 },
 "nbformat": 4,
 "nbformat_minor": 2
}
