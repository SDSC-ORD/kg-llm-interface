{
 "cells": [
  {
   "attachments": {},
   "cell_type": "markdown",
   "metadata": {},
   "source": [
    "## Question to SPARQL query generation\n",
    "\n",
    "In this notebook, we generate a SPARQL query from an input plain english question and execute it against a knowledge graph.\n",
    "\n",
    "Below are the two prompts we will use for the language model. First, the `SPARQL_TEMPLATE` is used to construct a SPARQL query from an input quersion and context. Then, the output will be executed against the knowledge graph and the `ANSWER_TEMPLATE` will be used to generate a human-readable answer to described the results."
   ]
  },
  {
   "cell_type": "code",
   "execution_count": 1,
   "metadata": {},
   "outputs": [],
   "source": [
    "\n",
    "SPARQL_TEMPLATE = \"\"\"\n",
    "Generate a SPARQL query to answer the input question. A sample of the knowledge graph schema is provided to help construct the query.\n",
    "After you generate the sparql, you should display it.\n",
    "When generating sparql:\n",
    "* never enclose the sparql in back-quotes.\n",
    "* always include the prefix declarations.\n",
    "* prefer using OPTIONAL when selecting multiple variables.\n",
    "* Allow case-insensitive matching of strings.\n",
    "\n",
    "Use the following format:\n",
    "\n",
    "Question: the input question for which you must generate a SPARQL query\n",
    "Information: the schema information in RDF format. This will help you generate the sparql query with the correct format.\n",
    "\n",
    "Question: {question_str}\n",
    "Information:\n",
    "{context_str}\n",
    "Answer:\n",
    "\"\"\"\n",
    "\n",
    "ANSWER_TEMPLATE = \"\"\"\n",
    "The following describe a user question, associated SPARQL query and the result from executing the query.\n",
    "Based on this information, write an answer in simple terms that describes the results.\n",
    "When appropriate, use markdown formatting to format the results into a table or bullet points.\n",
    "\n",
    "Question:\n",
    "{question_str}\n",
    "Query:\n",
    "{query_str}\n",
    "Result:\n",
    "{result_str}\n",
    "Answer:\n",
    "\"\"\""
   ]
  },
  {
   "attachments": {},
   "cell_type": "markdown",
   "metadata": {},
   "source": [
    "We setup a minimal configuration, with the vector database (Chroma) running in client-only mode, and a small RDF file acting as the knowledge graph. This file contains both the instance data and the ontology. The ontology is enclosed in a named graph inside the file.\n",
    "\n",
    "For the sake of the demo, we use a small model for embeddings (MiniLM-L6-V2) and rely on the OpenAI key for text geneartion for text generation. A local model can be used instead, but it will require high RAM and ideally a GPU."
   ]
  },
  {
   "cell_type": "code",
   "execution_count": 6,
   "metadata": {},
   "outputs": [],
   "source": [
    "from aikg.config import ChatConfig, ChromaConfig, SparqlConfig\n",
    "\n",
    "chroma_config = ChromaConfig(\n",
    "    host=\"local\",\n",
    "    port=8000,\n",
    "    collection_name=\"test\",\n",
    "    embedding_model=\"all-MiniLM-L6-v2\",\n",
    "    persist_directory=\"/tmp/chroma-test/\",\n",
    ")\n",
    "sparql_config = SparqlConfig(\n",
    "    endpoint=\"../data/test_data.trig\",\n",
    ")\n",
    "chat_config = ChatConfig(\n",
    "    model_id=\"lmsys/vicuna-7b-v1.3\",\n",
    "    max_new_tokens=48,\n",
    "    max_input_size=2048,\n",
    "    num_output=256,\n",
    "    max_chunk_overlap=20,\n",
    "    answer_template=ANSWER_TEMPLATE,\n",
    "    sparql_template=SPARQL_TEMPLATE\n",
    ")\n"
   ]
  },
  {
   "cell_type": "code",
   "execution_count": 4,
   "metadata": {},
   "outputs": [],
   "source": [
    "import os\n",
    "os.environ[\"OPENAI_API_KEY\"] = \"sk-...\""
   ]
  },
  {
   "cell_type": "code",
   "execution_count": 8,
   "metadata": {},
   "outputs": [],
   "source": [
    "\n",
    "from aikg.utils.llm import setup_llm_chain\n",
    "from aikg.utils.rdf import setup_kg\n",
    "\n",
    "\n",
    "# Use a local model\n",
    "from aikg.utils.llm import setup_llm\n",
    "#llm = setup_llm(chat_config.model_id, chat_config.max_new_tokens)\n",
    "# Use OpenAI API\n",
    "from langchain.llms import OpenAI\n",
    "llm = OpenAI(model_name=\"text-davinci-003\")\n",
    "\n",
    "# For now, both chains share the same model to spare memory\n",
    "answer_chain = setup_llm_chain(llm, chat_config.answer_template)\n",
    "sparql_chain = setup_llm_chain(llm, chat_config.sparql_template)\n",
    "kg = setup_kg(**sparql_config.dict())"
   ]
  },
  {
   "attachments": {},
   "cell_type": "markdown",
   "metadata": {},
   "source": [
    "First, we need to embed the ontology into the vector database. This will allow us to retrieve semantically similar concepts from the ontology based on the question.\n",
    "\n",
    "In the example rdf file, the ontology is enclosed in a named graph calles `http://example.org/ontology`. "
   ]
  },
  {
   "cell_type": "code",
   "execution_count": 9,
   "metadata": {},
   "outputs": [
    {
     "data": {
      "text/html": [
       "<pre style=\"white-space:pre;overflow-x:auto;line-height:normal;font-family:Menlo,'DejaVu Sans Mono',consolas,'Courier New',monospace\">15:52:15.018 | <span style=\"color: #008080; text-decoration-color: #008080\">INFO</span>    | prefect.engine - Created flow run<span style=\"color: #800080; text-decoration-color: #800080\"> 'spry-lemming'</span> for flow<span style=\"color: #800080; text-decoration-color: #800080; font-weight: bold\"> 'chroma-build-flow'</span>\n",
       "</pre>\n"
      ],
      "text/plain": [
       "15:52:15.018 | \u001b[36mINFO\u001b[0m    | prefect.engine - Created flow run\u001b[35m 'spry-lemming'\u001b[0m for flow\u001b[1;35m 'chroma-build-flow'\u001b[0m\n"
      ]
     },
     "metadata": {},
     "output_type": "display_data"
    },
    {
     "data": {
      "text/html": [
       "<pre style=\"white-space:pre;overflow-x:auto;line-height:normal;font-family:Menlo,'DejaVu Sans Mono',consolas,'Courier New',monospace\">15:52:15.350 | <span style=\"color: #008080; text-decoration-color: #008080\">INFO</span>    | Flow run<span style=\"color: #800080; text-decoration-color: #800080\"> 'spry-lemming'</span> - <span style=\"color: #008080; text-decoration-color: #008080\">INFO</span> Started\n",
       "</pre>\n"
      ],
      "text/plain": [
       "15:52:15.350 | \u001b[36mINFO\u001b[0m    | Flow run\u001b[35m 'spry-lemming'\u001b[0m - \u001b[36mINFO\u001b[0m Started\n"
      ]
     },
     "metadata": {},
     "output_type": "display_data"
    },
    {
     "data": {
      "text/html": [
       "<pre style=\"white-space:pre;overflow-x:auto;line-height:normal;font-family:Menlo,'DejaVu Sans Mono',consolas,'Courier New',monospace\">15:52:15.429 | <span style=\"color: #008080; text-decoration-color: #008080\">INFO</span>    | Flow run<span style=\"color: #800080; text-decoration-color: #800080\"> 'spry-lemming'</span> - Created task run 'init_chromadb-0' for task 'init_chromadb'\n",
       "</pre>\n"
      ],
      "text/plain": [
       "15:52:15.429 | \u001b[36mINFO\u001b[0m    | Flow run\u001b[35m 'spry-lemming'\u001b[0m - Created task run 'init_chromadb-0' for task 'init_chromadb'\n"
      ]
     },
     "metadata": {},
     "output_type": "display_data"
    },
    {
     "data": {
      "text/html": [
       "<pre style=\"white-space:pre;overflow-x:auto;line-height:normal;font-family:Menlo,'DejaVu Sans Mono',consolas,'Courier New',monospace\">15:52:15.432 | <span style=\"color: #008080; text-decoration-color: #008080\">INFO</span>    | Flow run<span style=\"color: #800080; text-decoration-color: #800080\"> 'spry-lemming'</span> - Executing 'init_chromadb-0' immediately...\n",
       "</pre>\n"
      ],
      "text/plain": [
       "15:52:15.432 | \u001b[36mINFO\u001b[0m    | Flow run\u001b[35m 'spry-lemming'\u001b[0m - Executing 'init_chromadb-0' immediately...\n"
      ]
     },
     "metadata": {},
     "output_type": "display_data"
    },
    {
     "name": "stderr",
     "output_type": "stream",
     "text": [
      "/home/cmatthey/.cache/pypoetry/virtualenvs/aikg-ULDgE_fB-py3.10/lib/python3.10/site-packages/tqdm/auto.py:21: TqdmWarning: IProgress not found. Please update jupyter and ipywidgets. See https://ipywidgets.readthedocs.io/en/stable/user_install.html\n",
      "  from .autonotebook import tqdm as notebook_tqdm\n"
     ]
    },
    {
     "data": {
      "text/html": [
       "<pre style=\"white-space:pre;overflow-x:auto;line-height:normal;font-family:Menlo,'DejaVu Sans Mono',consolas,'Courier New',monospace\">15:52:21.150 | <span style=\"color: #008080; text-decoration-color: #008080\">INFO</span>    | Task run 'init_chromadb-0' - Finished in state <span style=\"color: #008000; text-decoration-color: #008000\">Completed</span>()\n",
       "</pre>\n"
      ],
      "text/plain": [
       "15:52:21.150 | \u001b[36mINFO\u001b[0m    | Task run 'init_chromadb-0' - Finished in state \u001b[32mCompleted\u001b[0m()\n"
      ]
     },
     "metadata": {},
     "output_type": "display_data"
    },
    {
     "data": {
      "text/html": [
       "<pre style=\"white-space:pre;overflow-x:auto;line-height:normal;font-family:Menlo,'DejaVu Sans Mono',consolas,'Courier New',monospace\">15:52:22.437 | <span style=\"color: #008080; text-decoration-color: #008080\">INFO</span>    | Flow run<span style=\"color: #800080; text-decoration-color: #800080\"> 'spry-lemming'</span> - Created task run 'sparql_to_documents-0' for task 'sparql_to_documents'\n",
       "</pre>\n"
      ],
      "text/plain": [
       "15:52:22.437 | \u001b[36mINFO\u001b[0m    | Flow run\u001b[35m 'spry-lemming'\u001b[0m - Created task run 'sparql_to_documents-0' for task 'sparql_to_documents'\n"
      ]
     },
     "metadata": {},
     "output_type": "display_data"
    },
    {
     "data": {
      "text/html": [
       "<pre style=\"white-space:pre;overflow-x:auto;line-height:normal;font-family:Menlo,'DejaVu Sans Mono',consolas,'Courier New',monospace\">15:52:22.440 | <span style=\"color: #008080; text-decoration-color: #008080\">INFO</span>    | Flow run<span style=\"color: #800080; text-decoration-color: #800080\"> 'spry-lemming'</span> - Executing 'sparql_to_documents-0' immediately...\n",
       "</pre>\n"
      ],
      "text/plain": [
       "15:52:22.440 | \u001b[36mINFO\u001b[0m    | Flow run\u001b[35m 'spry-lemming'\u001b[0m - Executing 'sparql_to_documents-0' immediately...\n"
      ]
     },
     "metadata": {},
     "output_type": "display_data"
    },
    {
     "data": {
      "text/html": [
       "<pre style=\"white-space:pre;overflow-x:auto;line-height:normal;font-family:Menlo,'DejaVu Sans Mono',consolas,'Courier New',monospace\">15:53:07.750 | <span style=\"color: #d70000; text-decoration-color: #d70000\">ERROR</span>   | Task run 'sparql_to_documents-0' - Crash detected! Execution was cancelled by the runtime environment.\n",
       "</pre>\n"
      ],
      "text/plain": [
       "15:53:07.750 | \u001b[38;5;160mERROR\u001b[0m   | Task run 'sparql_to_documents-0' - Crash detected! Execution was cancelled by the runtime environment.\n"
      ]
     },
     "metadata": {},
     "output_type": "display_data"
    },
    {
     "data": {
      "text/html": [
       "<pre style=\"white-space:pre;overflow-x:auto;line-height:normal;font-family:Menlo,'DejaVu Sans Mono',consolas,'Courier New',monospace\">15:53:07.800 | <span style=\"color: #d70000; text-decoration-color: #d70000\">ERROR</span>   | Flow run<span style=\"color: #800080; text-decoration-color: #800080\"> 'spry-lemming'</span> - Crash detected! Execution was aborted by an interrupt signal.\n",
       "</pre>\n"
      ],
      "text/plain": [
       "15:53:07.800 | \u001b[38;5;160mERROR\u001b[0m   | Flow run\u001b[35m 'spry-lemming'\u001b[0m - Crash detected! Execution was aborted by an interrupt signal.\n"
      ]
     },
     "metadata": {},
     "output_type": "display_data"
    },
    {
     "ename": "KeyboardInterrupt",
     "evalue": "",
     "output_type": "error",
     "traceback": [
      "\u001b[0;31m---------------------------------------------------------------------------\u001b[0m",
      "\u001b[0;31mKeyboardInterrupt\u001b[0m                         Traceback (most recent call last)",
      "Cell \u001b[0;32mIn[9], line 2\u001b[0m\n\u001b[1;32m      1\u001b[0m \u001b[39mfrom\u001b[39;00m \u001b[39maikg\u001b[39;00m\u001b[39m.\u001b[39;00m\u001b[39mflows\u001b[39;00m\u001b[39m.\u001b[39;00m\u001b[39mchroma_build\u001b[39;00m \u001b[39mimport\u001b[39;00m chroma_build_flow\n\u001b[0;32m----> 2\u001b[0m chroma_build_flow(chroma_config, sparql_config)\n",
      "File \u001b[0;32m~/.cache/pypoetry/virtualenvs/aikg-ULDgE_fB-py3.10/lib/python3.10/site-packages/prefect/flows.py:511\u001b[0m, in \u001b[0;36mFlow.__call__\u001b[0;34m(self, return_state, wait_for, *args, **kwargs)\u001b[0m\n\u001b[1;32m    507\u001b[0m parameters \u001b[39m=\u001b[39m get_call_parameters(\u001b[39mself\u001b[39m\u001b[39m.\u001b[39mfn, args, kwargs)\n\u001b[1;32m    509\u001b[0m return_type \u001b[39m=\u001b[39m \u001b[39m\"\u001b[39m\u001b[39mstate\u001b[39m\u001b[39m\"\u001b[39m \u001b[39mif\u001b[39;00m return_state \u001b[39melse\u001b[39;00m \u001b[39m\"\u001b[39m\u001b[39mresult\u001b[39m\u001b[39m\"\u001b[39m\n\u001b[0;32m--> 511\u001b[0m \u001b[39mreturn\u001b[39;00m enter_flow_run_engine_from_flow_call(\n\u001b[1;32m    512\u001b[0m     \u001b[39mself\u001b[39;49m,\n\u001b[1;32m    513\u001b[0m     parameters,\n\u001b[1;32m    514\u001b[0m     wait_for\u001b[39m=\u001b[39;49mwait_for,\n\u001b[1;32m    515\u001b[0m     return_type\u001b[39m=\u001b[39;49mreturn_type,\n\u001b[1;32m    516\u001b[0m )\n",
      "File \u001b[0;32m~/.cache/pypoetry/virtualenvs/aikg-ULDgE_fB-py3.10/lib/python3.10/site-packages/prefect/engine.py:272\u001b[0m, in \u001b[0;36menter_flow_run_engine_from_flow_call\u001b[0;34m(flow, parameters, wait_for, return_type)\u001b[0m\n\u001b[1;32m    265\u001b[0m     retval \u001b[39m=\u001b[39m from_async\u001b[39m.\u001b[39mwait_for_call_in_loop_thread(\n\u001b[1;32m    266\u001b[0m         begin_run,\n\u001b[1;32m    267\u001b[0m         done_callbacks\u001b[39m=\u001b[39mdone_callbacks,\n\u001b[1;32m    268\u001b[0m         contexts\u001b[39m=\u001b[39mcontexts,\n\u001b[1;32m    269\u001b[0m     )\n\u001b[1;32m    271\u001b[0m \u001b[39melse\u001b[39;00m:\n\u001b[0;32m--> 272\u001b[0m     retval \u001b[39m=\u001b[39m from_sync\u001b[39m.\u001b[39;49mwait_for_call_in_loop_thread(\n\u001b[1;32m    273\u001b[0m         begin_run,\n\u001b[1;32m    274\u001b[0m         done_callbacks\u001b[39m=\u001b[39;49mdone_callbacks,\n\u001b[1;32m    275\u001b[0m         contexts\u001b[39m=\u001b[39;49mcontexts,\n\u001b[1;32m    276\u001b[0m     )\n\u001b[1;32m    278\u001b[0m \u001b[39mreturn\u001b[39;00m retval\n",
      "File \u001b[0;32m~/.cache/pypoetry/virtualenvs/aikg-ULDgE_fB-py3.10/lib/python3.10/site-packages/prefect/_internal/concurrency/api.py:243\u001b[0m, in \u001b[0;36mfrom_sync.wait_for_call_in_loop_thread\u001b[0;34m(_from_sync__call, timeout, done_callbacks, contexts)\u001b[0m\n\u001b[1;32m    241\u001b[0m     stack\u001b[39m.\u001b[39menter_context(context)\n\u001b[1;32m    242\u001b[0m waiter\u001b[39m.\u001b[39mwait()\n\u001b[0;32m--> 243\u001b[0m \u001b[39mreturn\u001b[39;00m call\u001b[39m.\u001b[39;49mresult()\n",
      "File \u001b[0;32m~/.cache/pypoetry/virtualenvs/aikg-ULDgE_fB-py3.10/lib/python3.10/site-packages/prefect/_internal/concurrency/calls.py:283\u001b[0m, in \u001b[0;36mCall.result\u001b[0;34m(self, timeout)\u001b[0m\n\u001b[1;32m    277\u001b[0m \u001b[39mdef\u001b[39;00m \u001b[39mresult\u001b[39m(\u001b[39mself\u001b[39m, timeout: Optional[\u001b[39mfloat\u001b[39m] \u001b[39m=\u001b[39m \u001b[39mNone\u001b[39;00m) \u001b[39m-\u001b[39m\u001b[39m>\u001b[39m T:\n\u001b[1;32m    278\u001b[0m \u001b[39m    \u001b[39m\u001b[39m\"\"\"\u001b[39;00m\n\u001b[1;32m    279\u001b[0m \u001b[39m    Wait for the result of the call.\u001b[39;00m\n\u001b[1;32m    280\u001b[0m \n\u001b[1;32m    281\u001b[0m \u001b[39m    Not safe for use from asynchronous contexts.\u001b[39;00m\n\u001b[1;32m    282\u001b[0m \u001b[39m    \"\"\"\u001b[39;00m\n\u001b[0;32m--> 283\u001b[0m     \u001b[39mreturn\u001b[39;00m \u001b[39mself\u001b[39;49m\u001b[39m.\u001b[39;49mfuture\u001b[39m.\u001b[39;49mresult(timeout\u001b[39m=\u001b[39;49mtimeout)\n",
      "File \u001b[0;32m~/.cache/pypoetry/virtualenvs/aikg-ULDgE_fB-py3.10/lib/python3.10/site-packages/prefect/_internal/concurrency/calls.py:169\u001b[0m, in \u001b[0;36mFuture.result\u001b[0;34m(self, timeout)\u001b[0m\n\u001b[1;32m    167\u001b[0m     \u001b[39mraise\u001b[39;00m CancelledError()\n\u001b[1;32m    168\u001b[0m \u001b[39melif\u001b[39;00m \u001b[39mself\u001b[39m\u001b[39m.\u001b[39m_state \u001b[39m==\u001b[39m FINISHED:\n\u001b[0;32m--> 169\u001b[0m     \u001b[39mreturn\u001b[39;00m \u001b[39mself\u001b[39;49m\u001b[39m.\u001b[39;49m__get_result()\n\u001b[1;32m    171\u001b[0m \u001b[39mself\u001b[39m\u001b[39m.\u001b[39m_condition\u001b[39m.\u001b[39mwait(timeout)\n\u001b[1;32m    173\u001b[0m \u001b[39mif\u001b[39;00m \u001b[39mself\u001b[39m\u001b[39m.\u001b[39m_state \u001b[39min\u001b[39;00m [CANCELLED, CANCELLED_AND_NOTIFIED]:\n\u001b[1;32m    174\u001b[0m     \u001b[39m# Raise Prefect cancelled error instead of\u001b[39;00m\n\u001b[1;32m    175\u001b[0m     \u001b[39m# `concurrent.futures._base.CancelledError`\u001b[39;00m\n",
      "File \u001b[0;32m~/.local/share/mambaforge/envs/py310/lib/python3.10/concurrent/futures/_base.py:403\u001b[0m, in \u001b[0;36mFuture.__get_result\u001b[0;34m(self)\u001b[0m\n\u001b[1;32m    401\u001b[0m \u001b[39mif\u001b[39;00m \u001b[39mself\u001b[39m\u001b[39m.\u001b[39m_exception:\n\u001b[1;32m    402\u001b[0m     \u001b[39mtry\u001b[39;00m:\n\u001b[0;32m--> 403\u001b[0m         \u001b[39mraise\u001b[39;00m \u001b[39mself\u001b[39m\u001b[39m.\u001b[39m_exception\n\u001b[1;32m    404\u001b[0m     \u001b[39mfinally\u001b[39;00m:\n\u001b[1;32m    405\u001b[0m         \u001b[39m# Break a reference cycle with the exception in self._exception\u001b[39;00m\n\u001b[1;32m    406\u001b[0m         \u001b[39mself\u001b[39m \u001b[39m=\u001b[39m \u001b[39mNone\u001b[39;00m\n",
      "File \u001b[0;32m~/.cache/pypoetry/virtualenvs/aikg-ULDgE_fB-py3.10/lib/python3.10/site-packages/prefect/_internal/concurrency/calls.py:346\u001b[0m, in \u001b[0;36mCall._run_async\u001b[0;34m(***failed resolving arguments***)\u001b[0m\n\u001b[1;32m    344\u001b[0m     \u001b[39mwith\u001b[39;00m set_current_call(\u001b[39mself\u001b[39m):\n\u001b[1;32m    345\u001b[0m         \u001b[39mwith\u001b[39;00m \u001b[39mself\u001b[39m\u001b[39m.\u001b[39mfuture\u001b[39m.\u001b[39menforce_async_deadline() \u001b[39mas\u001b[39;00m cancel_scope:\n\u001b[0;32m--> 346\u001b[0m             result \u001b[39m=\u001b[39m \u001b[39mawait\u001b[39;00m coro\n\u001b[1;32m    347\u001b[0m \u001b[39mexcept\u001b[39;00m CancelledError:\n\u001b[1;32m    348\u001b[0m     \u001b[39m# Report cancellation\u001b[39;00m\n\u001b[1;32m    349\u001b[0m     \u001b[39mif\u001b[39;00m cancel_scope\u001b[39m.\u001b[39mtimedout():\n",
      "File \u001b[0;32m~/.cache/pypoetry/virtualenvs/aikg-ULDgE_fB-py3.10/lib/python3.10/site-packages/prefect/client/utilities.py:51\u001b[0m, in \u001b[0;36minject_client.<locals>.with_injected_client\u001b[0;34m(*args, **kwargs)\u001b[0m\n\u001b[1;32m     49\u001b[0m \u001b[39masync\u001b[39;00m \u001b[39mwith\u001b[39;00m client_context \u001b[39mas\u001b[39;00m new_client:\n\u001b[1;32m     50\u001b[0m     kwargs\u001b[39m.\u001b[39msetdefault(\u001b[39m\"\u001b[39m\u001b[39mclient\u001b[39m\u001b[39m\"\u001b[39m, new_client \u001b[39mor\u001b[39;00m client)\n\u001b[0;32m---> 51\u001b[0m     \u001b[39mreturn\u001b[39;00m \u001b[39mawait\u001b[39;00m fn(\u001b[39m*\u001b[39margs, \u001b[39m*\u001b[39m\u001b[39m*\u001b[39mkwargs)\n",
      "File \u001b[0;32m~/.cache/pypoetry/virtualenvs/aikg-ULDgE_fB-py3.10/lib/python3.10/site-packages/prefect/engine.py:364\u001b[0m, in \u001b[0;36mcreate_then_begin_flow_run\u001b[0;34m(flow, parameters, wait_for, return_type, client, user_thread)\u001b[0m\n\u001b[1;32m    359\u001b[0m     engine_logger\u001b[39m.\u001b[39minfo(\n\u001b[1;32m    360\u001b[0m         \u001b[39mf\u001b[39m\u001b[39m\"\u001b[39m\u001b[39mFlow run \u001b[39m\u001b[39m{\u001b[39;00mflow_run\u001b[39m.\u001b[39mname\u001b[39m!r}\u001b[39;00m\u001b[39m received invalid parameters and is marked as\u001b[39m\u001b[39m\"\u001b[39m\n\u001b[1;32m    361\u001b[0m         \u001b[39m\"\u001b[39m\u001b[39m failed.\u001b[39m\u001b[39m\"\u001b[39m\n\u001b[1;32m    362\u001b[0m     )\n\u001b[1;32m    363\u001b[0m \u001b[39melse\u001b[39;00m:\n\u001b[0;32m--> 364\u001b[0m     state \u001b[39m=\u001b[39m \u001b[39mawait\u001b[39;00m begin_flow_run(\n\u001b[1;32m    365\u001b[0m         flow\u001b[39m=\u001b[39mflow,\n\u001b[1;32m    366\u001b[0m         flow_run\u001b[39m=\u001b[39mflow_run,\n\u001b[1;32m    367\u001b[0m         parameters\u001b[39m=\u001b[39mparameters,\n\u001b[1;32m    368\u001b[0m         client\u001b[39m=\u001b[39mclient,\n\u001b[1;32m    369\u001b[0m         user_thread\u001b[39m=\u001b[39muser_thread,\n\u001b[1;32m    370\u001b[0m     )\n\u001b[1;32m    372\u001b[0m \u001b[39mif\u001b[39;00m return_type \u001b[39m==\u001b[39m \u001b[39m\"\u001b[39m\u001b[39mstate\u001b[39m\u001b[39m\"\u001b[39m:\n\u001b[1;32m    373\u001b[0m     \u001b[39mreturn\u001b[39;00m state\n",
      "File \u001b[0;32m~/.cache/pypoetry/virtualenvs/aikg-ULDgE_fB-py3.10/lib/python3.10/site-packages/prefect/engine.py:520\u001b[0m, in \u001b[0;36mbegin_flow_run\u001b[0;34m(flow, flow_run, parameters, client, user_thread)\u001b[0m\n\u001b[1;32m    517\u001b[0m     \u001b[39mif\u001b[39;00m log_prints:\n\u001b[1;32m    518\u001b[0m         stack\u001b[39m.\u001b[39menter_context(patch_print())\n\u001b[0;32m--> 520\u001b[0m     terminal_or_paused_state \u001b[39m=\u001b[39m \u001b[39mawait\u001b[39;00m orchestrate_flow_run(\n\u001b[1;32m    521\u001b[0m         flow,\n\u001b[1;32m    522\u001b[0m         flow_run\u001b[39m=\u001b[39mflow_run,\n\u001b[1;32m    523\u001b[0m         parameters\u001b[39m=\u001b[39mparameters,\n\u001b[1;32m    524\u001b[0m         wait_for\u001b[39m=\u001b[39m\u001b[39mNone\u001b[39;00m,\n\u001b[1;32m    525\u001b[0m         client\u001b[39m=\u001b[39mclient,\n\u001b[1;32m    526\u001b[0m         partial_flow_run_context\u001b[39m=\u001b[39mflow_run_context,\n\u001b[1;32m    527\u001b[0m         \u001b[39m# Orchestration needs to be interruptible if it has a timeout\u001b[39;00m\n\u001b[1;32m    528\u001b[0m         interruptible\u001b[39m=\u001b[39mflow\u001b[39m.\u001b[39mtimeout_seconds \u001b[39mis\u001b[39;00m \u001b[39mnot\u001b[39;00m \u001b[39mNone\u001b[39;00m,\n\u001b[1;32m    529\u001b[0m         user_thread\u001b[39m=\u001b[39muser_thread,\n\u001b[1;32m    530\u001b[0m     )\n\u001b[1;32m    532\u001b[0m \u001b[39mif\u001b[39;00m terminal_or_paused_state\u001b[39m.\u001b[39mis_paused():\n\u001b[1;32m    533\u001b[0m     timeout \u001b[39m=\u001b[39m terminal_or_paused_state\u001b[39m.\u001b[39mstate_details\u001b[39m.\u001b[39mpause_timeout\n",
      "File \u001b[0;32m~/.cache/pypoetry/virtualenvs/aikg-ULDgE_fB-py3.10/lib/python3.10/site-packages/prefect/engine.py:833\u001b[0m, in \u001b[0;36morchestrate_flow_run\u001b[0;34m(flow, flow_run, parameters, wait_for, interruptible, client, partial_flow_run_context, user_thread)\u001b[0m\n\u001b[1;32m    828\u001b[0m         \u001b[39melse\u001b[39;00m:\n\u001b[1;32m    829\u001b[0m             from_async\u001b[39m.\u001b[39mcall_soon_in_new_thread(\n\u001b[1;32m    830\u001b[0m                 flow_call, timeout\u001b[39m=\u001b[39mflow\u001b[39m.\u001b[39mtimeout_seconds\n\u001b[1;32m    831\u001b[0m             )\n\u001b[0;32m--> 833\u001b[0m         result \u001b[39m=\u001b[39m \u001b[39mawait\u001b[39;00m flow_call\u001b[39m.\u001b[39maresult()\n\u001b[1;32m    835\u001b[0m         waited_for_task_runs \u001b[39m=\u001b[39m \u001b[39mawait\u001b[39;00m wait_for_task_runs_and_report_crashes(\n\u001b[1;32m    836\u001b[0m             flow_run_context\u001b[39m.\u001b[39mtask_run_futures, client\u001b[39m=\u001b[39mclient\n\u001b[1;32m    837\u001b[0m         )\n\u001b[1;32m    838\u001b[0m \u001b[39mexcept\u001b[39;00m PausedRun:\n",
      "File \u001b[0;32m~/.cache/pypoetry/virtualenvs/aikg-ULDgE_fB-py3.10/lib/python3.10/site-packages/prefect/_internal/concurrency/calls.py:292\u001b[0m, in \u001b[0;36mCall.aresult\u001b[0;34m(self)\u001b[0m\n\u001b[1;32m    286\u001b[0m \u001b[39m\u001b[39m\u001b[39m\"\"\"\u001b[39;00m\n\u001b[1;32m    287\u001b[0m \u001b[39mWait for the result of the call.\u001b[39;00m\n\u001b[1;32m    288\u001b[0m \n\u001b[1;32m    289\u001b[0m \u001b[39mFor use from asynchronous contexts.\u001b[39;00m\n\u001b[1;32m    290\u001b[0m \u001b[39m\"\"\"\u001b[39;00m\n\u001b[1;32m    291\u001b[0m \u001b[39mtry\u001b[39;00m:\n\u001b[0;32m--> 292\u001b[0m     \u001b[39mreturn\u001b[39;00m \u001b[39mawait\u001b[39;00m asyncio\u001b[39m.\u001b[39mwrap_future(\u001b[39mself\u001b[39m\u001b[39m.\u001b[39mfuture)\n\u001b[1;32m    293\u001b[0m \u001b[39mexcept\u001b[39;00m asyncio\u001b[39m.\u001b[39mCancelledError \u001b[39mas\u001b[39;00m exc:\n\u001b[1;32m    294\u001b[0m     \u001b[39mraise\u001b[39;00m CancelledError() \u001b[39mfrom\u001b[39;00m \u001b[39mexc\u001b[39;00m\n",
      "File \u001b[0;32m~/.cache/pypoetry/virtualenvs/aikg-ULDgE_fB-py3.10/lib/python3.10/site-packages/prefect/_internal/concurrency/calls.py:316\u001b[0m, in \u001b[0;36mCall._run_sync\u001b[0;34m(***failed resolving arguments***)\u001b[0m\n\u001b[1;32m    314\u001b[0m \u001b[39mwith\u001b[39;00m set_current_call(\u001b[39mself\u001b[39m):\n\u001b[1;32m    315\u001b[0m     \u001b[39mwith\u001b[39;00m \u001b[39mself\u001b[39m\u001b[39m.\u001b[39mfuture\u001b[39m.\u001b[39menforce_sync_deadline() \u001b[39mas\u001b[39;00m cancel_scope:\n\u001b[0;32m--> 316\u001b[0m         result \u001b[39m=\u001b[39m \u001b[39mself\u001b[39;49m\u001b[39m.\u001b[39;49mfn(\u001b[39m*\u001b[39;49m\u001b[39mself\u001b[39;49m\u001b[39m.\u001b[39;49margs, \u001b[39m*\u001b[39;49m\u001b[39m*\u001b[39;49m\u001b[39mself\u001b[39;49m\u001b[39m.\u001b[39;49mkwargs)\n\u001b[1;32m    318\u001b[0m \u001b[39m# Return the coroutine for async execution\u001b[39;00m\n\u001b[1;32m    319\u001b[0m \u001b[39mif\u001b[39;00m inspect\u001b[39m.\u001b[39misawaitable(result):\n",
      "File \u001b[0;32m~/Repos/github.com/SDSC-ORD/kg-llm-interface/aikg/flows/chroma_build.py:101\u001b[0m, in \u001b[0;36mchroma_build_flow\u001b[0;34m(chroma_cfg, sparql_cfg, graph)\u001b[0m\n\u001b[1;32m     94\u001b[0m kg \u001b[39m=\u001b[39m akrdf\u001b[39m.\u001b[39msetup_kg(\n\u001b[1;32m     95\u001b[0m     sparql_cfg\u001b[39m.\u001b[39mendpoint,\n\u001b[1;32m     96\u001b[0m     user\u001b[39m=\u001b[39msparql_cfg\u001b[39m.\u001b[39muser,\n\u001b[1;32m     97\u001b[0m     password\u001b[39m=\u001b[39msparql_cfg\u001b[39m.\u001b[39mpassword,\n\u001b[1;32m     98\u001b[0m )\n\u001b[1;32m    100\u001b[0m \u001b[39m# Create subject documents\u001b[39;00m\n\u001b[0;32m--> 101\u001b[0m docs \u001b[39m=\u001b[39m sparql_to_documents(\n\u001b[1;32m    102\u001b[0m     kg,\n\u001b[1;32m    103\u001b[0m     graph\u001b[39m=\u001b[39;49mgraph,\n\u001b[1;32m    104\u001b[0m )\n\u001b[1;32m    106\u001b[0m \u001b[39m# Vectorize and index documents by batches to reduce overhead\u001b[39;00m\n\u001b[1;32m    107\u001b[0m logger\u001b[39m.\u001b[39minfo(\u001b[39mf\u001b[39m\u001b[39m\"\u001b[39m\u001b[39mIndexing by batches of \u001b[39m\u001b[39m{\u001b[39;00mchroma_cfg\u001b[39m.\u001b[39mbatch_size\u001b[39m}\u001b[39;00m\u001b[39m items\u001b[39m\u001b[39m\"\u001b[39m)\n",
      "File \u001b[0;32m~/.cache/pypoetry/virtualenvs/aikg-ULDgE_fB-py3.10/lib/python3.10/site-packages/prefect/tasks.py:505\u001b[0m, in \u001b[0;36mTask.__call__\u001b[0;34m(self, return_state, wait_for, *args, **kwargs)\u001b[0m\n\u001b[1;32m    501\u001b[0m parameters \u001b[39m=\u001b[39m get_call_parameters(\u001b[39mself\u001b[39m\u001b[39m.\u001b[39mfn, args, kwargs)\n\u001b[1;32m    503\u001b[0m return_type \u001b[39m=\u001b[39m \u001b[39m\"\u001b[39m\u001b[39mstate\u001b[39m\u001b[39m\"\u001b[39m \u001b[39mif\u001b[39;00m return_state \u001b[39melse\u001b[39;00m \u001b[39m\"\u001b[39m\u001b[39mresult\u001b[39m\u001b[39m\"\u001b[39m\n\u001b[0;32m--> 505\u001b[0m \u001b[39mreturn\u001b[39;00m enter_task_run_engine(\n\u001b[1;32m    506\u001b[0m     \u001b[39mself\u001b[39;49m,\n\u001b[1;32m    507\u001b[0m     parameters\u001b[39m=\u001b[39;49mparameters,\n\u001b[1;32m    508\u001b[0m     wait_for\u001b[39m=\u001b[39;49mwait_for,\n\u001b[1;32m    509\u001b[0m     task_runner\u001b[39m=\u001b[39;49mSequentialTaskRunner(),\n\u001b[1;32m    510\u001b[0m     return_type\u001b[39m=\u001b[39;49mreturn_type,\n\u001b[1;32m    511\u001b[0m     mapped\u001b[39m=\u001b[39;49m\u001b[39mFalse\u001b[39;49;00m,\n\u001b[1;32m    512\u001b[0m )\n",
      "File \u001b[0;32m~/.cache/pypoetry/virtualenvs/aikg-ULDgE_fB-py3.10/lib/python3.10/site-packages/prefect/engine.py:1137\u001b[0m, in \u001b[0;36menter_task_run_engine\u001b[0;34m(task, parameters, wait_for, return_type, task_runner, mapped)\u001b[0m\n\u001b[1;32m   1135\u001b[0m     \u001b[39mreturn\u001b[39;00m from_async\u001b[39m.\u001b[39mwait_for_call_in_loop_thread(begin_run)\n\u001b[1;32m   1136\u001b[0m \u001b[39melse\u001b[39;00m:\n\u001b[0;32m-> 1137\u001b[0m     \u001b[39mreturn\u001b[39;00m from_sync\u001b[39m.\u001b[39;49mwait_for_call_in_loop_thread(begin_run)\n",
      "File \u001b[0;32m~/.cache/pypoetry/virtualenvs/aikg-ULDgE_fB-py3.10/lib/python3.10/site-packages/prefect/_internal/concurrency/api.py:242\u001b[0m, in \u001b[0;36mfrom_sync.wait_for_call_in_loop_thread\u001b[0;34m(_from_sync__call, timeout, done_callbacks, contexts)\u001b[0m\n\u001b[1;32m    240\u001b[0m \u001b[39mfor\u001b[39;00m context \u001b[39min\u001b[39;00m contexts \u001b[39mor\u001b[39;00m []:\n\u001b[1;32m    241\u001b[0m     stack\u001b[39m.\u001b[39menter_context(context)\n\u001b[0;32m--> 242\u001b[0m waiter\u001b[39m.\u001b[39;49mwait()\n\u001b[1;32m    243\u001b[0m \u001b[39mreturn\u001b[39;00m call\u001b[39m.\u001b[39mresult()\n",
      "File \u001b[0;32m~/.cache/pypoetry/virtualenvs/aikg-ULDgE_fB-py3.10/lib/python3.10/site-packages/prefect/_internal/concurrency/waiters.py:152\u001b[0m, in \u001b[0;36mSyncWaiter.wait\u001b[0;34m(self)\u001b[0m\n\u001b[1;32m    149\u001b[0m \u001b[39mself\u001b[39m\u001b[39m.\u001b[39m_call\u001b[39m.\u001b[39mfuture\u001b[39m.\u001b[39madd_done_callback(\u001b[39mlambda\u001b[39;00m _: \u001b[39mself\u001b[39m\u001b[39m.\u001b[39m_done_event\u001b[39m.\u001b[39mset())\n\u001b[1;32m    151\u001b[0m \u001b[39mwith\u001b[39;00m \u001b[39mself\u001b[39m\u001b[39m.\u001b[39m_handle_done_callbacks():\n\u001b[0;32m--> 152\u001b[0m     \u001b[39mself\u001b[39;49m\u001b[39m.\u001b[39;49m_handle_waiting_callbacks()\n\u001b[1;32m    154\u001b[0m     \u001b[39m# Wait for the future to be done\u001b[39;00m\n\u001b[1;32m    155\u001b[0m     \u001b[39mself\u001b[39m\u001b[39m.\u001b[39m_done_event\u001b[39m.\u001b[39mwait()\n",
      "File \u001b[0;32m~/.cache/pypoetry/virtualenvs/aikg-ULDgE_fB-py3.10/lib/python3.10/site-packages/prefect/_internal/concurrency/waiters.py:119\u001b[0m, in \u001b[0;36mSyncWaiter._handle_waiting_callbacks\u001b[0;34m(self)\u001b[0m\n\u001b[1;32m    117\u001b[0m logger\u001b[39m.\u001b[39mdebug(\u001b[39m\"\u001b[39m\u001b[39mWaiter \u001b[39m\u001b[39m%r\u001b[39;00m\u001b[39m watching for callbacks\u001b[39m\u001b[39m\"\u001b[39m, \u001b[39mself\u001b[39m)\n\u001b[1;32m    118\u001b[0m \u001b[39mwhile\u001b[39;00m \u001b[39mTrue\u001b[39;00m:\n\u001b[0;32m--> 119\u001b[0m     callback: Call \u001b[39m=\u001b[39m \u001b[39mself\u001b[39;49m\u001b[39m.\u001b[39;49m_queue\u001b[39m.\u001b[39;49mget()\n\u001b[1;32m    120\u001b[0m     \u001b[39mif\u001b[39;00m callback \u001b[39mis\u001b[39;00m \u001b[39mNone\u001b[39;00m:\n\u001b[1;32m    121\u001b[0m         \u001b[39mbreak\u001b[39;00m\n",
      "File \u001b[0;32m~/.local/share/mambaforge/envs/py310/lib/python3.10/queue.py:171\u001b[0m, in \u001b[0;36mQueue.get\u001b[0;34m(self, block, timeout)\u001b[0m\n\u001b[1;32m    169\u001b[0m \u001b[39melif\u001b[39;00m timeout \u001b[39mis\u001b[39;00m \u001b[39mNone\u001b[39;00m:\n\u001b[1;32m    170\u001b[0m     \u001b[39mwhile\u001b[39;00m \u001b[39mnot\u001b[39;00m \u001b[39mself\u001b[39m\u001b[39m.\u001b[39m_qsize():\n\u001b[0;32m--> 171\u001b[0m         \u001b[39mself\u001b[39;49m\u001b[39m.\u001b[39;49mnot_empty\u001b[39m.\u001b[39;49mwait()\n\u001b[1;32m    172\u001b[0m \u001b[39melif\u001b[39;00m timeout \u001b[39m<\u001b[39m \u001b[39m0\u001b[39m:\n\u001b[1;32m    173\u001b[0m     \u001b[39mraise\u001b[39;00m \u001b[39mValueError\u001b[39;00m(\u001b[39m\"\u001b[39m\u001b[39m'\u001b[39m\u001b[39mtimeout\u001b[39m\u001b[39m'\u001b[39m\u001b[39m must be a non-negative number\u001b[39m\u001b[39m\"\u001b[39m)\n",
      "File \u001b[0;32m~/.local/share/mambaforge/envs/py310/lib/python3.10/threading.py:320\u001b[0m, in \u001b[0;36mCondition.wait\u001b[0;34m(self, timeout)\u001b[0m\n\u001b[1;32m    318\u001b[0m \u001b[39mtry\u001b[39;00m:    \u001b[39m# restore state no matter what (e.g., KeyboardInterrupt)\u001b[39;00m\n\u001b[1;32m    319\u001b[0m     \u001b[39mif\u001b[39;00m timeout \u001b[39mis\u001b[39;00m \u001b[39mNone\u001b[39;00m:\n\u001b[0;32m--> 320\u001b[0m         waiter\u001b[39m.\u001b[39;49macquire()\n\u001b[1;32m    321\u001b[0m         gotit \u001b[39m=\u001b[39m \u001b[39mTrue\u001b[39;00m\n\u001b[1;32m    322\u001b[0m     \u001b[39melse\u001b[39;00m:\n",
      "\u001b[0;31mKeyboardInterrupt\u001b[0m: "
     ]
    }
   ],
   "source": [
    "from aikg.flows.chroma_build import chroma_build_flow\n",
    "chroma_build_flow(chroma_config, sparql_config, graph=\"https://example.org/ontology\")"
   ]
  },
  {
   "cell_type": "code",
   "execution_count": 7,
   "metadata": {},
   "outputs": [],
   "source": [
    "\n",
    "from aikg.utils.chroma import setup_client, setup_collection\n",
    "client = setup_client(\n",
    "    chroma_config.host,\n",
    "    chroma_config.port,\n",
    "    chroma_config.persist_directory,\n",
    ")\n",
    "collection = setup_collection(\n",
    "    client,\n",
    "    chroma_config.collection_name,\n",
    "    chroma_config.embedding_model,\n",
    ")\n"
   ]
  },
  {
   "attachments": {},
   "cell_type": "markdown",
   "metadata": {},
   "source": [
    "The Chroma collection now contains the ontology concepts as vectors. We can retrieve the most similar concepts to a given question.\n",
    "Notice that the property \"programmingLanguage\" is retrieved, even though the question does not contain the word \"programming\"."
   ]
  },
  {
   "cell_type": "code",
   "execution_count": 20,
   "metadata": {},
   "outputs": [
    {
     "name": "stdout",
     "output_type": "stream",
     "text": [
      "<http://schema.org/programmingLanguage> <http://www.w3.org/2000/01/rdf-schema#comment> \"The computer programming language.\" .\n",
      "<http://schema.org/programmingLanguage> <http://www.w3.org/2000/01/rdf-schema#label> \"programming language\" .\n",
      "<http://schema.org/programmingLanguage> <http://www.w3.org/2000/01/rdf-schema#range> <http://www.w3.org/2001/XMLSchema#string> .\n",
      "<http://schema.org/programmingLanguage> <http://www.w3.org/2000/01/rdf-schema#domain> <http://schema.org/SoftwareSourceCode> .\n",
      "<http://schema.org/programmingLanguage> <http://www.w3.org/1999/02/22-rdf-syntax-ns#type> <http://www.w3.org/1999/02/22-rdf-syntax-ns#Property> .\n",
      "\n",
      "<http://schema.org/codeRepository> <http://www.w3.org/2000/01/rdf-schema#range> <http://www.w3.org/2001/XMLSchema#anyUri> .\n",
      "<http://schema.org/codeRepository> <http://www.w3.org/2000/01/rdf-schema#comment> \"Link to the repository where the un-compiled, human readable code and related code is located (SVN, GitHub, CodePlex).\" .\n",
      "<http://schema.org/codeRepository> <http://www.w3.org/1999/02/22-rdf-syntax-ns#type> <http://www.w3.org/1999/02/22-rdf-syntax-ns#Property> .\n",
      "<http://schema.org/codeRepository> <http://www.w3.org/2000/01/rdf-schema#label> \"codeRepository\" .\n",
      "<http://schema.org/codeRepository> <http://www.w3.org/2000/01/rdf-schema#domain> <http://schema.org/SoftwareSourceCode> .\n",
      "\n",
      "<http://schema.org/license> <http://www.w3.org/2000/01/rdf-schema#comment> \"A license document that applies to this content, typically indicated by URL.\" .\n",
      "<http://schema.org/license> <http://www.w3.org/2000/01/rdf-schema#range> <http://www.w3.org/2001/XMLSchema#string> .\n",
      "<http://schema.org/license> <http://www.w3.org/2000/01/rdf-schema#label> \"license\" .\n",
      "<http://schema.org/license> <http://www.w3.org/1999/02/22-rdf-syntax-ns#type> <http://www.w3.org/1999/02/22-rdf-syntax-ns#Property> .\n",
      "<http://schema.org/license> <http://www.w3.org/2000/01/rdf-schema#domain> <http://schema.org/SoftwareSourceCode> .\n",
      "<http://schema.org/license> <http://www.w3.org/2000/01/rdf-schema#range> <http://www.w3.org/2001/XMLSchema#anyUri> .\n",
      "\n",
      "<http://schema.org/name> <http://www.w3.org/2000/01/rdf-schema#comment> \"The name of the item.\" .\n",
      "<http://schema.org/name> <http://www.w3.org/2000/01/rdf-schema#domain> <http://schema.org/SoftwareSourceCode> .\n",
      "<http://schema.org/name> <http://www.w3.org/2000/01/rdf-schema#range> <http://www.w3.org/2001/XMLSchema#string> .\n",
      "<http://schema.org/name> <http://www.w3.org/2000/01/rdf-schema#label> \"name\" .\n",
      "<http://schema.org/name> <http://www.w3.org/2000/01/rdf-schema#domain> <http://schema.org/Organization> .\n",
      "<http://schema.org/name> <http://www.w3.org/1999/02/22-rdf-syntax-ns#type> <http://www.w3.org/1999/02/22-rdf-syntax-ns#Property> .\n",
      "<http://schema.org/name> <http://www.w3.org/2000/01/rdf-schema#domain> <http://schema.org/Person> .\n",
      "\n",
      "<http://schema.org/keywords> <http://www.w3.org/2000/01/rdf-schema#range> <http://www.w3.org/2001/XMLSchema#string> .\n",
      "<http://schema.org/keywords> <http://www.w3.org/2000/01/rdf-schema#domain> <http://schema.org/SoftwareSourceCode> .\n",
      "<http://schema.org/keywords> <http://www.w3.org/1999/02/22-rdf-syntax-ns#type> <http://www.w3.org/1999/02/22-rdf-syntax-ns#Property> .\n",
      "<http://schema.org/keywords> <http://www.w3.org/2000/01/rdf-schema#label> \"keywords\" .\n",
      "<http://schema.org/keywords> <http://www.w3.org/2000/01/rdf-schema#comment> \"Keywords or tags used to describe some item. Multiple textual entries in a keywords list are typically delimited by commas, or by repeating the property.\" .\n",
      "\n"
     ]
    }
   ],
   "source": [
    "QUESTION = \"What softwares are written in Python?\"\n",
    "results = collection.query(query_texts=QUESTION, n_results=5)\n",
    "print('\\n'.join([res.get(\"triples\", \"\") for res in results['metadatas'][0]]))\n"
   ]
  },
  {
   "attachments": {},
   "cell_type": "markdown",
   "metadata": {},
   "source": [
    "Then, we can generate the SPARQL query."
   ]
  },
  {
   "cell_type": "code",
   "execution_count": 21,
   "metadata": {},
   "outputs": [
    {
     "name": "stdout",
     "output_type": "stream",
     "text": [
      "\n",
      "PREFIX schema: <http://schema.org/>\n",
      "PREFIX xsd: <http://www.w3.org/2001/XMLSchema#>\n",
      "\n",
      "SELECT ?name \n",
      "WHERE { \n",
      "  ?software schema:programmingLanguage ?language .\n",
      "  ?software schema:name ?name .\n",
      "  FILTER (?language = \"Python\"^^xsd:string)\n",
      "}\n"
     ]
    }
   ],
   "source": [
    "from aikg.utils.chat import generate_sparql\n",
    "query = generate_sparql(QUESTION, collection, sparql_chain)\n",
    "print(query)"
   ]
  },
  {
   "attachments": {},
   "cell_type": "markdown",
   "metadata": {},
   "source": [
    "and execute it:"
   ]
  },
  {
   "cell_type": "code",
   "execution_count": 22,
   "metadata": {},
   "outputs": [
    {
     "name": "stdout",
     "output_type": "stream",
     "text": [
      "[(rdflib.term.Literal('SDSC-ORD/gimie'),), (rdflib.term.Literal('SDSC-ORD/zarr_linked_data'),)]\n"
     ]
    }
   ],
   "source": [
    "from aikg.utils.rdf import query_kg\n",
    "results = query_kg(kg, query)\n",
    "print(results)"
   ]
  },
  {
   "attachments": {},
   "cell_type": "markdown",
   "metadata": {},
   "source": [
    "We can now generate a human-readable answer from the results of the query:"
   ]
  },
  {
   "cell_type": "code",
   "execution_count": 32,
   "metadata": {},
   "outputs": [
    {
     "data": {
      "text/plain": [
       "'The query returned two softwares written in Python: SDSC-ORD/gimie and SDSC-ORD/zarr_linked_data.'"
      ]
     },
     "execution_count": 32,
     "metadata": {},
     "output_type": "execute_result"
    }
   ],
   "source": [
    "from aikg.utils.chat import generate_answer\n",
    "generate_answer(QUESTION, query, results, answer_chain)"
   ]
  }
 ],
 "metadata": {
  "kernelspec": {
   "display_name": "aikg-URVQdnEY-py3.10",
   "language": "python",
   "name": "python3"
  },
  "language_info": {
   "codemirror_mode": {
    "name": "ipython",
    "version": 3
   },
   "file_extension": ".py",
   "mimetype": "text/x-python",
   "name": "python",
   "nbconvert_exporter": "python",
   "pygments_lexer": "ipython3",
   "version": "3.10.6"
  },
  "orig_nbformat": 4
 },
 "nbformat": 4,
 "nbformat_minor": 2
}
