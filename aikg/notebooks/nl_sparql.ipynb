{
 "cells": [
  {
   "attachments": {},
   "cell_type": "markdown",
   "metadata": {},
   "source": [
    "## Question to SPARQL query generation\n",
    "\n",
    "In this notebook, we generate a SPARQL query from an input plain english question and execute it against a knowledge graph.\n",
    "\n",
    "Below are the two prompts we will use for the language model. First, the `SPARQL_TEMPLATE` is used to construct a SPARQL query from an input quersion and context. Then, the output will be executed against the knowledge graph and the `ANSWER_TEMPLATE` will be used to generate a human-readable answer to described the results."
   ]
  },
  {
   "cell_type": "code",
   "execution_count": 1,
   "metadata": {},
   "outputs": [],
   "source": [
    "\n",
    "SPARQL_TEMPLATE = \"\"\"\n",
    "Generate a SPARQL query to answer the input question. A sample of the knowledge graph schema is provided to help construct the query.\n",
    "After you generate the sparql, you should display it.\n",
    "When generating sparql:\n",
    "* never enclose the sparql in back-quotes.\n",
    "* always include the prefix declarations.\n",
    "* prefer using OPTIONAL when selecting multiple variables.\n",
    "* Allow case-insensitive matching of strings.\n",
    "\n",
    "Use the following format:\n",
    "\n",
    "Question: the input question for which you must generate a SPARQL query\n",
    "Information: the schema information in RDF format. This will help you generate the sparql query with the correct format.\n",
    "\n",
    "Question: {question_str}\n",
    "Information:\n",
    "{context_str}\n",
    "Answer:\n",
    "\"\"\"\n",
    "\n",
    "ANSWER_TEMPLATE = \"\"\"\n",
    "The following describe a user question, associated SPARQL query and the result from executing the query.\n",
    "Based on this information, write an answer in simple terms that describes the results.\n",
    "When appropriate, use markdown formatting to format the results into a table or bullet points.\n",
    "\n",
    "Question:\n",
    "{question_str}\n",
    "Query:\n",
    "{query_str}\n",
    "Result:\n",
    "{result_str}\n",
    "Answer:\n",
    "\"\"\""
   ]
  },
  {
   "attachments": {},
   "cell_type": "markdown",
   "metadata": {},
   "source": [
    "We setup a minimal configuration, with the vector database (Chroma) running in client-only mode, and a small RDF file acting as the knowledge graph. This file contains both the instance data and the ontology. The ontology is enclosed in a named graph inside the file.\n",
    "\n",
    "For the sake of the demo, we use a small model for embeddings (MiniLM-L6-V2) and rely on the OpenAI key for text geneartion for text generation. A local model can be used instead, but it will require high RAM and ideally a GPU."
   ]
  },
  {
   "cell_type": "code",
   "execution_count": 19,
   "metadata": {},
   "outputs": [],
   "source": [
    "from aikg.config import ChatConfig, ChromaConfig, SparqlConfig\n",
    "\n",
    "chroma_config = ChromaConfig(\n",
    "    host=\"local\",\n",
    "    port=8000,\n",
    "    collection_name=\"test\",\n",
    "    embedding_model=\"all-MiniLM-L6-v2\",\n",
    ")\n",
    "sparql_config = SparqlConfig(\n",
    "    endpoint=\"../data/test_data.trig\",\n",
    ")\n",
    "chat_config = ChatConfig(\n",
    "    answer_template=ANSWER_TEMPLATE,\n",
    "    sparql_template=SPARQL_TEMPLATE\n",
    ")\n"
   ]
  },
  {
   "cell_type": "code",
   "execution_count": 25,
   "metadata": {},
   "outputs": [],
   "source": [
    "import os\n",
    "os.environ[\"OPENAI_API_KEY\"] = \"sk-...\""
   ]
  },
  {
   "cell_type": "code",
   "execution_count": 20,
   "metadata": {},
   "outputs": [
    {
     "name": "stderr",
     "output_type": "stream",
     "text": [
      "/home/stefan/kg-llm-interface/.conda/lib/python3.11/site-packages/langchain/llms/openai.py:173: UserWarning: You are trying to use a chat model. This way of initializing it is no longer supported. Instead, please use: `from langchain.chat_models import ChatOpenAI`\n",
      "  warnings.warn(\n",
      "/home/stefan/kg-llm-interface/.conda/lib/python3.11/site-packages/langchain/llms/openai.py:753: UserWarning: You are trying to use a chat model. This way of initializing it is no longer supported. Instead, please use: `from langchain.chat_models import ChatOpenAI`\n",
      "  warnings.warn(\n"
     ]
    }
   ],
   "source": [
    "\n",
    "from aikg.utils.llm import setup_llm_chain\n",
    "from aikg.utils.rdf import setup_kg\n",
    "\n",
    "# Use OpenAI API\n",
    "from langchain.llms import OpenAI\n",
    "llm = OpenAI(model_name=\"gpt-3.5-turbo-0125\")\n",
    "\n",
    "# For now, both chains share the same model to spare memory\n",
    "answer_chain = setup_llm_chain(llm, chat_config.answer_template)\n",
    "sparql_chain = setup_llm_chain(llm, chat_config.sparql_template)\n",
    "kg = setup_kg(**sparql_config.dict())"
   ]
  },
  {
   "attachments": {},
   "cell_type": "markdown",
   "metadata": {},
   "source": [
    "First, we need to embed the ontology into the vector database. This will allow us to retrieve semantically similar concepts from the ontology based on the question.\n",
    "\n",
    "In the example rdf file, the ontology is enclosed in a named graph calles `http://example.org/ontology`. "
   ]
  },
  {
   "cell_type": "code",
   "execution_count": 14,
   "metadata": {},
   "outputs": [
    {
     "data": {
      "text/html": [
       "<pre style=\"white-space:pre;overflow-x:auto;line-height:normal;font-family:Menlo,'DejaVu Sans Mono',consolas,'Courier New',monospace\">14:17:06.998 | <span style=\"color: #008080; text-decoration-color: #008080\">INFO</span>    | prefect.engine - Created flow run<span style=\"color: #800080; text-decoration-color: #800080\"> 'electric-terrier'</span> for flow<span style=\"color: #800080; text-decoration-color: #800080; font-weight: bold\"> 'chroma-build-flow'</span>\n",
       "</pre>\n"
      ],
      "text/plain": [
       "14:17:06.998 | \u001b[36mINFO\u001b[0m    | prefect.engine - Created flow run\u001b[35m 'electric-terrier'\u001b[0m for flow\u001b[1;35m 'chroma-build-flow'\u001b[0m\n"
      ]
     },
     "metadata": {},
     "output_type": "display_data"
    },
    {
     "data": {
      "text/html": [
       "<pre style=\"white-space:pre;overflow-x:auto;line-height:normal;font-family:Menlo,'DejaVu Sans Mono',consolas,'Courier New',monospace\">14:17:07.070 | <span style=\"color: #008080; text-decoration-color: #008080\">INFO</span>    | Flow run<span style=\"color: #800080; text-decoration-color: #800080\"> 'electric-terrier'</span> - <span style=\"color: #008080; text-decoration-color: #008080\">INFO</span> Started\n",
       "</pre>\n"
      ],
      "text/plain": [
       "14:17:07.070 | \u001b[36mINFO\u001b[0m    | Flow run\u001b[35m 'electric-terrier'\u001b[0m - \u001b[36mINFO\u001b[0m Started\n"
      ]
     },
     "metadata": {},
     "output_type": "display_data"
    },
    {
     "data": {
      "text/html": [
       "<pre style=\"white-space:pre;overflow-x:auto;line-height:normal;font-family:Menlo,'DejaVu Sans Mono',consolas,'Courier New',monospace\">14:17:07.141 | <span style=\"color: #008080; text-decoration-color: #008080\">INFO</span>    | Flow run<span style=\"color: #800080; text-decoration-color: #800080\"> 'electric-terrier'</span> - Created task run 'init_chromadb-0' for task 'init_chromadb'\n",
       "</pre>\n"
      ],
      "text/plain": [
       "14:17:07.141 | \u001b[36mINFO\u001b[0m    | Flow run\u001b[35m 'electric-terrier'\u001b[0m - Created task run 'init_chromadb-0' for task 'init_chromadb'\n"
      ]
     },
     "metadata": {},
     "output_type": "display_data"
    },
    {
     "data": {
      "text/html": [
       "<pre style=\"white-space:pre;overflow-x:auto;line-height:normal;font-family:Menlo,'DejaVu Sans Mono',consolas,'Courier New',monospace\">14:17:07.145 | <span style=\"color: #008080; text-decoration-color: #008080\">INFO</span>    | Flow run<span style=\"color: #800080; text-decoration-color: #800080\"> 'electric-terrier'</span> - Executing 'init_chromadb-0' immediately...\n",
       "</pre>\n"
      ],
      "text/plain": [
       "14:17:07.145 | \u001b[36mINFO\u001b[0m    | Flow run\u001b[35m 'electric-terrier'\u001b[0m - Executing 'init_chromadb-0' immediately...\n"
      ]
     },
     "metadata": {},
     "output_type": "display_data"
    },
    {
     "name": "stderr",
     "output_type": "stream",
     "text": [
      "/home/stefan/kg-llm-interface/.conda/lib/python3.11/site-packages/tqdm/auto.py:21: TqdmWarning: IProgress not found. Please update jupyter and ipywidgets. See https://ipywidgets.readthedocs.io/en/stable/user_install.html\n",
      "  from .autonotebook import tqdm as notebook_tqdm\n"
     ]
    },
    {
     "data": {
      "text/html": [
       "<pre style=\"white-space:pre;overflow-x:auto;line-height:normal;font-family:Menlo,'DejaVu Sans Mono',consolas,'Courier New',monospace\">14:17:13.949 | <span style=\"color: #008080; text-decoration-color: #008080\">INFO</span>    | Task run 'init_chromadb-0' - Finished in state <span style=\"color: #008000; text-decoration-color: #008000\">Completed</span>()\n",
       "</pre>\n"
      ],
      "text/plain": [
       "14:17:13.949 | \u001b[36mINFO\u001b[0m    | Task run 'init_chromadb-0' - Finished in state \u001b[32mCompleted\u001b[0m()\n"
      ]
     },
     "metadata": {},
     "output_type": "display_data"
    },
    {
     "data": {
      "text/html": [
       "<pre style=\"white-space:pre;overflow-x:auto;line-height:normal;font-family:Menlo,'DejaVu Sans Mono',consolas,'Courier New',monospace\">14:17:14.028 | <span style=\"color: #008080; text-decoration-color: #008080\">INFO</span>    | Flow run<span style=\"color: #800080; text-decoration-color: #800080\"> 'electric-terrier'</span> - Created task run 'sparql_to_documents-0' for task 'sparql_to_documents'\n",
       "</pre>\n"
      ],
      "text/plain": [
       "14:17:14.028 | \u001b[36mINFO\u001b[0m    | Flow run\u001b[35m 'electric-terrier'\u001b[0m - Created task run 'sparql_to_documents-0' for task 'sparql_to_documents'\n"
      ]
     },
     "metadata": {},
     "output_type": "display_data"
    },
    {
     "data": {
      "text/html": [
       "<pre style=\"white-space:pre;overflow-x:auto;line-height:normal;font-family:Menlo,'DejaVu Sans Mono',consolas,'Courier New',monospace\">14:17:14.033 | <span style=\"color: #008080; text-decoration-color: #008080\">INFO</span>    | Flow run<span style=\"color: #800080; text-decoration-color: #800080\"> 'electric-terrier'</span> - Executing 'sparql_to_documents-0' immediately...\n",
       "</pre>\n"
      ],
      "text/plain": [
       "14:17:14.033 | \u001b[36mINFO\u001b[0m    | Flow run\u001b[35m 'electric-terrier'\u001b[0m - Executing 'sparql_to_documents-0' immediately...\n"
      ]
     },
     "metadata": {},
     "output_type": "display_data"
    },
    {
     "data": {
      "text/html": [
       "<pre style=\"white-space:pre;overflow-x:auto;line-height:normal;font-family:Menlo,'DejaVu Sans Mono',consolas,'Courier New',monospace\">14:17:14.575 | <span style=\"color: #008080; text-decoration-color: #008080\">INFO</span>    | Task run 'sparql_to_documents-0' - Finished in state <span style=\"color: #008000; text-decoration-color: #008000\">Completed</span>()\n",
       "</pre>\n"
      ],
      "text/plain": [
       "14:17:14.575 | \u001b[36mINFO\u001b[0m    | Task run 'sparql_to_documents-0' - Finished in state \u001b[32mCompleted\u001b[0m()\n"
      ]
     },
     "metadata": {},
     "output_type": "display_data"
    },
    {
     "data": {
      "text/html": [
       "<pre style=\"white-space:pre;overflow-x:auto;line-height:normal;font-family:Menlo,'DejaVu Sans Mono',consolas,'Courier New',monospace\">14:17:14.580 | <span style=\"color: #008080; text-decoration-color: #008080\">INFO</span>    | Flow run<span style=\"color: #800080; text-decoration-color: #800080\"> 'electric-terrier'</span> - Indexing by batches of 50 items\n",
       "</pre>\n"
      ],
      "text/plain": [
       "14:17:14.580 | \u001b[36mINFO\u001b[0m    | Flow run\u001b[35m 'electric-terrier'\u001b[0m - Indexing by batches of 50 items\n"
      ]
     },
     "metadata": {},
     "output_type": "display_data"
    },
    {
     "data": {
      "text/html": [
       "<pre style=\"white-space:pre;overflow-x:auto;line-height:normal;font-family:Menlo,'DejaVu Sans Mono',consolas,'Courier New',monospace\">14:17:14.646 | <span style=\"color: #008080; text-decoration-color: #008080\">INFO</span>    | Flow run<span style=\"color: #800080; text-decoration-color: #800080\"> 'electric-terrier'</span> - Created task run 'index_batch-0' for task 'index_batch'\n",
       "</pre>\n"
      ],
      "text/plain": [
       "14:17:14.646 | \u001b[36mINFO\u001b[0m    | Flow run\u001b[35m 'electric-terrier'\u001b[0m - Created task run 'index_batch-0' for task 'index_batch'\n"
      ]
     },
     "metadata": {},
     "output_type": "display_data"
    },
    {
     "data": {
      "text/html": [
       "<pre style=\"white-space:pre;overflow-x:auto;line-height:normal;font-family:Menlo,'DejaVu Sans Mono',consolas,'Courier New',monospace\">14:17:14.649 | <span style=\"color: #008080; text-decoration-color: #008080\">INFO</span>    | Flow run<span style=\"color: #800080; text-decoration-color: #800080\"> 'electric-terrier'</span> - Executing 'index_batch-0' immediately...\n",
       "</pre>\n"
      ],
      "text/plain": [
       "14:17:14.649 | \u001b[36mINFO\u001b[0m    | Flow run\u001b[35m 'electric-terrier'\u001b[0m - Executing 'index_batch-0' immediately...\n"
      ]
     },
     "metadata": {},
     "output_type": "display_data"
    },
    {
     "data": {
      "text/html": [
       "<pre style=\"white-space:pre;overflow-x:auto;line-height:normal;font-family:Menlo,'DejaVu Sans Mono',consolas,'Courier New',monospace\">14:17:17.929 | <span style=\"color: #008080; text-decoration-color: #008080\">INFO</span>    | Task run 'index_batch-0' - Finished in state <span style=\"color: #008000; text-decoration-color: #008000\">Completed</span>()\n",
       "</pre>\n"
      ],
      "text/plain": [
       "14:17:17.929 | \u001b[36mINFO\u001b[0m    | Task run 'index_batch-0' - Finished in state \u001b[32mCompleted\u001b[0m()\n"
      ]
     },
     "metadata": {},
     "output_type": "display_data"
    },
    {
     "data": {
      "text/html": [
       "<pre style=\"white-space:pre;overflow-x:auto;line-height:normal;font-family:Menlo,'DejaVu Sans Mono',consolas,'Courier New',monospace\">14:17:17.936 | <span style=\"color: #008080; text-decoration-color: #008080\">INFO</span>    | Flow run<span style=\"color: #800080; text-decoration-color: #800080\"> 'electric-terrier'</span> - Indexed 13 items.\n",
       "</pre>\n"
      ],
      "text/plain": [
       "14:17:17.936 | \u001b[36mINFO\u001b[0m    | Flow run\u001b[35m 'electric-terrier'\u001b[0m - Indexed 13 items.\n"
      ]
     },
     "metadata": {},
     "output_type": "display_data"
    },
    {
     "data": {
      "text/html": [
       "<pre style=\"white-space:pre;overflow-x:auto;line-height:normal;font-family:Menlo,'DejaVu Sans Mono',consolas,'Courier New',monospace\">14:17:17.998 | <span style=\"color: #008080; text-decoration-color: #008080\">INFO</span>    | Flow run<span style=\"color: #800080; text-decoration-color: #800080\"> 'electric-terrier'</span> - Finished in state <span style=\"color: #008000; text-decoration-color: #008000\">Completed</span>('All states completed.')\n",
       "</pre>\n"
      ],
      "text/plain": [
       "14:17:17.998 | \u001b[36mINFO\u001b[0m    | Flow run\u001b[35m 'electric-terrier'\u001b[0m - Finished in state \u001b[32mCompleted\u001b[0m('All states completed.')\n"
      ]
     },
     "metadata": {},
     "output_type": "display_data"
    },
    {
     "data": {
      "text/plain": [
       "[Completed(message=None, type=COMPLETED, result=UnpersistedResult(type='unpersisted', artifact_type='result', artifact_description='Unpersisted result of type `tuple`')),\n",
       " Completed(message=None, type=COMPLETED, result=UnpersistedResult(type='unpersisted', artifact_type='result', artifact_description='Unpersisted result of type `list`')),\n",
       " Completed(message=None, type=COMPLETED, result=UnpersistedResult(type='unpersisted', artifact_type='result', artifact_description='Unpersisted result of type `NoneType`'))]"
      ]
     },
     "execution_count": 14,
     "metadata": {},
     "output_type": "execute_result"
    }
   ],
   "source": [
    "from aikg.flows.chroma_build import chroma_build_flow\n",
    "chroma_build_flow(chroma_config, sparql_config, graph=\"https://example.org/ontology\")"
   ]
  },
  {
   "cell_type": "code",
   "execution_count": 21,
   "metadata": {},
   "outputs": [],
   "source": [
    "\n",
    "from aikg.utils.chroma import setup_client, setup_collection\n",
    "client = setup_client(\n",
    "    chroma_config.host,\n",
    "    chroma_config.port,\n",
    "    chroma_config.persist_directory,\n",
    ")\n",
    "collection = setup_collection(\n",
    "    client,\n",
    "    chroma_config.collection_name,\n",
    "    chroma_config.embedding_model,\n",
    ")\n"
   ]
  },
  {
   "attachments": {},
   "cell_type": "markdown",
   "metadata": {},
   "source": [
    "The Chroma collection now contains the ontology concepts as vectors. We can retrieve the most similar concepts to a given question.\n",
    "Notice that the property \"programmingLanguage\" is retrieved, even though the question does not contain the word \"programming\"."
   ]
  },
  {
   "cell_type": "code",
   "execution_count": 22,
   "metadata": {},
   "outputs": [
    {
     "name": "stdout",
     "output_type": "stream",
     "text": [
      "<http://schema.org/programmingLanguage> <http://www.w3.org/2000/01/rdf-schema#label> \"programming language\" .\n",
      "<http://schema.org/programmingLanguage> <http://www.w3.org/2000/01/rdf-schema#range> <http://www.w3.org/2001/XMLSchema#string> .\n",
      "<http://schema.org/programmingLanguage> <http://www.w3.org/2000/01/rdf-schema#comment> \"The computer programming language.\" .\n",
      "<http://schema.org/programmingLanguage> <http://www.w3.org/1999/02/22-rdf-syntax-ns#type> <http://www.w3.org/1999/02/22-rdf-syntax-ns#Property> .\n",
      "<http://schema.org/programmingLanguage> <http://www.w3.org/2000/01/rdf-schema#domain> <http://schema.org/SoftwareSourceCode> .\n",
      "\n",
      "<http://schema.org/SoftwareSourceCode> <http://www.w3.org/2000/01/rdf-schema#comment> \"Computer programming source code. Example: Full (compile ready) solutions, code snippet samples, scripts, templates.\" .\n",
      "<http://schema.org/SoftwareSourceCode> <http://www.w3.org/1999/02/22-rdf-syntax-ns#type> <http://www.w3.org/2000/01/rdf-schema#Class> .\n",
      "<http://schema.org/SoftwareSourceCode> <http://www.w3.org/2000/01/rdf-schema#label> \"SoftwareSourceCode\" .\n",
      "<http://schema.org/SoftwareSourceCode> <http://www.w3.org/2000/01/rdf-schema#subClassOf> <http://schema.org/CreativeWork> .\n",
      "\n",
      "<http://schema.org/codeRepository> <http://www.w3.org/1999/02/22-rdf-syntax-ns#type> <http://www.w3.org/1999/02/22-rdf-syntax-ns#Property> .\n",
      "<http://schema.org/codeRepository> <http://www.w3.org/2000/01/rdf-schema#domain> <http://schema.org/SoftwareSourceCode> .\n",
      "<http://schema.org/codeRepository> <http://www.w3.org/2000/01/rdf-schema#range> <http://www.w3.org/2001/XMLSchema#anyUri> .\n",
      "<http://schema.org/codeRepository> <http://www.w3.org/2000/01/rdf-schema#comment> \"Link to the repository where the un-compiled, human readable code and related code is located (SVN, GitHub, CodePlex).\" .\n",
      "<http://schema.org/codeRepository> <http://www.w3.org/2000/01/rdf-schema#label> \"codeRepository\" .\n",
      "\n",
      "<http://schema.org/license> <http://www.w3.org/2000/01/rdf-schema#label> \"license\" .\n",
      "<http://schema.org/license> <http://www.w3.org/2000/01/rdf-schema#range> <http://www.w3.org/2001/XMLSchema#anyUri> .\n",
      "<http://schema.org/license> <http://www.w3.org/1999/02/22-rdf-syntax-ns#type> <http://www.w3.org/1999/02/22-rdf-syntax-ns#Property> .\n",
      "<http://schema.org/license> <http://www.w3.org/2000/01/rdf-schema#range> <http://www.w3.org/2001/XMLSchema#string> .\n",
      "<http://schema.org/license> <http://www.w3.org/2000/01/rdf-schema#comment> \"A license document that applies to this content, typically indicated by URL.\" .\n",
      "<http://schema.org/license> <http://www.w3.org/2000/01/rdf-schema#domain> <http://schema.org/SoftwareSourceCode> .\n",
      "\n",
      "<http://schema.org/name> <http://www.w3.org/2000/01/rdf-schema#label> \"name\" .\n",
      "<http://schema.org/name> <http://www.w3.org/1999/02/22-rdf-syntax-ns#type> <http://www.w3.org/1999/02/22-rdf-syntax-ns#Property> .\n",
      "<http://schema.org/name> <http://www.w3.org/2000/01/rdf-schema#domain> <http://schema.org/SoftwareSourceCode> .\n",
      "<http://schema.org/name> <http://www.w3.org/2000/01/rdf-schema#comment> \"The name of the item.\" .\n",
      "<http://schema.org/name> <http://www.w3.org/2000/01/rdf-schema#domain> <http://schema.org/Organization> .\n",
      "<http://schema.org/name> <http://www.w3.org/2000/01/rdf-schema#domain> <http://schema.org/Person> .\n",
      "<http://schema.org/name> <http://www.w3.org/2000/01/rdf-schema#range> <http://www.w3.org/2001/XMLSchema#string> .\n",
      "\n"
     ]
    }
   ],
   "source": [
    "QUESTION = \"What softwares are written in Python?\"\n",
    "results = collection.query(query_texts=QUESTION, n_results=5)\n",
    "print('\\n'.join([res.get(\"triples\", \"\") for res in results['metadatas'][0]]))\n"
   ]
  },
  {
   "attachments": {},
   "cell_type": "markdown",
   "metadata": {},
   "source": [
    "Then, we can generate the SPARQL query."
   ]
  },
  {
   "cell_type": "code",
   "execution_count": 23,
   "metadata": {},
   "outputs": [
    {
     "name": "stdout",
     "output_type": "stream",
     "text": [
      "PREFIX rdf: <http://www.w3.org/1999/02/22-rdf-syntax-ns#>\n",
      "PREFIX rdfs: <http://www.w3.org/2000/01/rdf-schema#>\n",
      "PREFIX xsd: <http://www.w3.org/2001/XMLSchema#>\n",
      "\n",
      "SELECT DISTINCT ?softwareName\n",
      "WHERE {\n",
      "  ?software rdf:type <http://schema.org/SoftwareSourceCode> .\n",
      "  ?software <http://schema.org/programmingLanguage> ?language .\n",
      "  FILTER regex(str(?language), \"python\", \"i\") .\n",
      "  ?software <http://schema.org/name> ?softwareName .\n",
      "}\n"
     ]
    }
   ],
   "source": [
    "from aikg.utils.chat import generate_sparql\n",
    "query = generate_sparql(QUESTION, collection, sparql_chain)\n",
    "print(query)"
   ]
  },
  {
   "attachments": {},
   "cell_type": "markdown",
   "metadata": {},
   "source": [
    "and execute it:"
   ]
  },
  {
   "cell_type": "code",
   "execution_count": 24,
   "metadata": {},
   "outputs": [
    {
     "name": "stdout",
     "output_type": "stream",
     "text": [
      "[['softwareName'], ['SDSC-ORD/gimie'], ['SDSC-ORD/zarr_linked_data']]\n"
     ]
    }
   ],
   "source": [
    "from aikg.utils.rdf import query_kg\n",
    "results = query_kg(kg, query)\n",
    "print(results)"
   ]
  },
  {
   "attachments": {},
   "cell_type": "markdown",
   "metadata": {},
   "source": [
    "We can now generate a human-readable answer from the results of the query:"
   ]
  },
  {
   "cell_type": "code",
   "execution_count": 32,
   "metadata": {},
   "outputs": [
    {
     "data": {
      "text/plain": [
       "'The query returned two softwares written in Python: SDSC-ORD/gimie and SDSC-ORD/zarr_linked_data.'"
      ]
     },
     "execution_count": 32,
     "metadata": {},
     "output_type": "execute_result"
    }
   ],
   "source": [
    "from aikg.utils.chat import generate_answer\n",
    "generate_answer(QUESTION, query, results, answer_chain)"
   ]
  }
 ],
 "metadata": {
  "kernelspec": {
   "display_name": "aikg-URVQdnEY-py3.10",
   "language": "python",
   "name": "python3"
  },
  "language_info": {
   "codemirror_mode": {
    "name": "ipython",
    "version": 3
   },
   "file_extension": ".py",
   "mimetype": "text/x-python",
   "name": "python",
   "nbconvert_exporter": "python",
   "pygments_lexer": "ipython3",
   "version": "3.11.8"
  },
  "orig_nbformat": 4
 },
 "nbformat": 4,
 "nbformat_minor": 2
}
