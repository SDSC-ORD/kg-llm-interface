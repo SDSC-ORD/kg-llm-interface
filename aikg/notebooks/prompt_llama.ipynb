{
 "cells": [
  {
   "cell_type": "code",
   "execution_count": 1,
   "metadata": {},
   "outputs": [],
   "source": [
    "\n",
    "question = \"What is the tallest Pokemon?\"\n",
    "model_id = \"chainyo/alpaca-lora-7b\"\n",
    "prompt_template = \"\"\"Question: {question}\n",
    "\n",
    "Answer: Let's think step by step.\"\"\"\n",
    "\n"
   ]
  },
  {
   "cell_type": "code",
   "execution_count": 3,
   "metadata": {},
   "outputs": [],
   "source": [
    "import requests\n",
    "import shutil \n",
    "from tempfile import NamedTemporaryFile\n",
    "\n",
    "def download_file(url: str) -> str:\n",
    "    out = NamedTemporaryFile(mode=\"wb\", delete=False)\n",
    "    with requests.get(url, stream=True) as r:\n",
    "        shutil.copyfileobj(r.raw, out)\n",
    "\n",
    "    return out.name\n",
    "\n",
    "ontology = download_file(\"https://www.pokemonkg.org/ontology/ontology.nt\")\n",
    "instances = download_file(\"https://www.pokemonkg.org/download/dump/poke-a.nq.gz\")"
   ]
  },
  {
   "cell_type": "code",
   "execution_count": 2,
   "metadata": {},
   "outputs": [
    {
     "name": "stderr",
     "output_type": "stream",
     "text": [
      "/home/cyril/.cache/pypoetry/virtualenvs/aikg-URVQdnEY-py3.10/lib/python3.10/site-packages/tqdm/auto.py:21: TqdmWarning: IProgress not found. Please update jupyter and ipywidgets. See https://ipywidgets.readthedocs.io/en/stable/user_install.html\n",
      "  from .autonotebook import tqdm as notebook_tqdm\n",
      "Loading checkpoint shards: 100%|██████████| 39/39 [00:37<00:00,  1.05it/s]\n",
      "INFO:llama_index.token_counter.token_counter:> [build_index_from_nodes] Total LLM token usage: 0 tokens\n",
      "INFO:llama_index.token_counter.token_counter:> [build_index_from_nodes] Total embedding token usage: 0 tokens\n",
      "INFO:llama_index.token_counter.token_counter:> [query] Total LLM token usage: 0 tokens\n",
      "INFO:llama_index.token_counter.token_counter:> [query] Total embedding token usage: 0 tokens\n"
     ]
    },
    {
     "name": "stdout",
     "output_type": "stream",
     "text": [
      "None\n"
     ]
    }
   ],
   "source": [
    "import torch\n",
    "from langchain.llms.base import LLM\n",
    "from llama_index import SimpleDirectoryReader, LangchainEmbedding, GPTListIndex, PromptHelper\n",
    "from llama_index import LLMPredictor, ServiceContext\n",
    "from transformers import pipeline\n",
    "from typing import Optional, List, Mapping, Any\n",
    "\n",
    "\n",
    "# define prompt helper\n",
    "# set maximum input size\n",
    "max_input_size = 2048\n",
    "# set number of output tokens\n",
    "num_output = 256\n",
    "# set maximum chunk overlap\n",
    "max_chunk_overlap = 20\n",
    "prompt_helper = PromptHelper(max_input_size, num_output, max_chunk_overlap)\n",
    "\n",
    "\n",
    "class CustomLLM(LLM):\n",
    "    model_name = model_id\n",
    "    pipeline = pipeline(\"text-generation\", model=model_name, model_kwargs={\"torch_dtype\":torch.bfloat16})\n",
    "\n",
    "    def _call(self, prompt: str, stop: Optional[List[str]] = None) -> str:\n",
    "        prompt_length = len(prompt)\n",
    "        response = self.pipeline(prompt, max_new_tokens=num_output)[0][\"generated_text\"]\n",
    "\n",
    "        # only return newly generated tokens\n",
    "        return response[prompt_length:]\n",
    "\n",
    "    @property\n",
    "    def _identifying_params(self) -> Mapping[str, Any]:\n",
    "        return {\"name_of_model\": self.model_name}\n",
    "\n",
    "    @property\n",
    "    def _llm_type(self) -> str:\n",
    "        return \"custom\"\n",
    "\n",
    "# define our LLM\n",
    "llm_predictor = LLMPredictor(llm=CustomLLM())\n",
    "\n",
    "service_context = ServiceContext.from_defaults(llm_predictor=llm_predictor, prompt_helper=prompt_helper)\n",
    "\n",
    "# Load the your data\n",
    "documents = SimpleDirectoryReader('./data').load_data()\n",
    "index = GPTListIndex.from_documents(documents, service_context=service_context)\n",
    "\n",
    "# Query and print response\n",
    "response = index.query(\"<query_text>\")\n",
    "print(response)"
   ]
  },
  {
   "cell_type": "code",
   "execution_count": 8,
   "metadata": {},
   "outputs": [
    {
     "ename": "Exception",
     "evalue": "Label not found for: http://www.w3.org/2002/07/owl#ObjectProperty",
     "output_type": "error",
     "traceback": [
      "\u001b[0;31m---------------------------------------------------------------------------\u001b[0m",
      "\u001b[0;31mException\u001b[0m                                 Traceback (most recent call last)",
      "Cell \u001b[0;32mIn[8], line 3\u001b[0m\n\u001b[1;32m      1\u001b[0m \u001b[39mfrom\u001b[39;00m \u001b[39mllama_index\u001b[39;00m \u001b[39mimport\u001b[39;00m download_loader, GPTSimpleVectorIndex\n\u001b[1;32m      2\u001b[0m RDFReader \u001b[39m=\u001b[39m download_loader(\u001b[39m\"\u001b[39m\u001b[39mRDFReader\u001b[39m\u001b[39m\"\u001b[39m)\n\u001b[0;32m----> 3\u001b[0m document \u001b[39m=\u001b[39m RDFReader()\u001b[39m.\u001b[39;49mload_data(file\u001b[39m=\u001b[39;49montology)\n",
      "File \u001b[0;32m~/.cache/pypoetry/virtualenvs/aikg-URVQdnEY-py3.10/lib/python3.10/site-packages/llama_index/readers/llamahub_modules/file/rdf/base.py:73\u001b[0m, in \u001b[0;36mRDFReader.load_data\u001b[0;34m(self, file, extra_info)\u001b[0m\n\u001b[1;32m     68\u001b[0m     \u001b[39mif\u001b[39;00m p \u001b[39m==\u001b[39m \u001b[39mself\u001b[39m\u001b[39m.\u001b[39mRDFS\u001b[39m.\u001b[39mlabel:\n\u001b[1;32m     69\u001b[0m         \u001b[39mcontinue\u001b[39;00m\n\u001b[1;32m     70\u001b[0m     triple \u001b[39m=\u001b[39m (\n\u001b[1;32m     71\u001b[0m         \u001b[39mf\u001b[39m\u001b[39m\"\u001b[39m\u001b[39m<\u001b[39m\u001b[39m{\u001b[39;00m\u001b[39mself\u001b[39m\u001b[39m.\u001b[39mfetch_label_in_graphs(s,\u001b[39m \u001b[39mlang\u001b[39m=\u001b[39mlang)\u001b[39m}\u001b[39;00m\u001b[39m> \u001b[39m\u001b[39m\"\u001b[39m\n\u001b[1;32m     72\u001b[0m         \u001b[39mf\u001b[39m\u001b[39m\"\u001b[39m\u001b[39m<\u001b[39m\u001b[39m{\u001b[39;00m\u001b[39mself\u001b[39m\u001b[39m.\u001b[39mfetch_label_in_graphs(p,\u001b[39m \u001b[39mlang\u001b[39m=\u001b[39mlang)\u001b[39m}\u001b[39;00m\u001b[39m> \u001b[39m\u001b[39m\"\u001b[39m\n\u001b[0;32m---> 73\u001b[0m         \u001b[39mf\u001b[39m\u001b[39m\"\u001b[39m\u001b[39m<\u001b[39m\u001b[39m{\u001b[39;00m\u001b[39mself\u001b[39;49m\u001b[39m.\u001b[39;49mfetch_label_in_graphs(o,\u001b[39m \u001b[39;49mlang\u001b[39m=\u001b[39;49mlang)\u001b[39m}\u001b[39;00m\u001b[39m>\u001b[39m\u001b[39m\"\u001b[39m\n\u001b[1;32m     74\u001b[0m     )\n\u001b[1;32m     75\u001b[0m     text_list\u001b[39m.\u001b[39mappend(triple)\n\u001b[1;32m     77\u001b[0m text \u001b[39m=\u001b[39m \u001b[39m\"\u001b[39m\u001b[39m\\n\u001b[39;00m\u001b[39m\"\u001b[39m\u001b[39m.\u001b[39mjoin(text_list)\n",
      "File \u001b[0;32m~/.cache/pypoetry/virtualenvs/aikg-URVQdnEY-py3.10/lib/python3.10/site-packages/llama_index/readers/llamahub_modules/file/rdf/base.py:49\u001b[0m, in \u001b[0;36mRDFReader.fetch_label_in_graphs\u001b[0;34m(self, uri, lang)\u001b[0m\n\u001b[1;32m     46\u001b[0m \u001b[39mif\u001b[39;00m \u001b[39mlen\u001b[39m(labels) \u001b[39m>\u001b[39m \u001b[39m0\u001b[39m:\n\u001b[1;32m     47\u001b[0m     \u001b[39mreturn\u001b[39;00m labels[\u001b[39m0\u001b[39m]\u001b[39m.\u001b[39mvalue\n\u001b[0;32m---> 49\u001b[0m \u001b[39mraise\u001b[39;00m \u001b[39mException\u001b[39;00m(\u001b[39mf\u001b[39m\u001b[39m\"\u001b[39m\u001b[39mLabel not found for: \u001b[39m\u001b[39m{\u001b[39;00muri\u001b[39m}\u001b[39;00m\u001b[39m\"\u001b[39m)\n",
      "\u001b[0;31mException\u001b[0m: Label not found for: http://www.w3.org/2002/07/owl#ObjectProperty"
     ]
    }
   ],
   "source": [
    "from llama_index import download_loader, GPTSimpleVectorIndex\n",
    "RDFReader = download_loader(\"RDFReader\")\n",
    "document = RDFReader().load_data(file=ontology)"
   ]
  },
  {
   "cell_type": "code",
   "execution_count": 4,
   "metadata": {},
   "outputs": [],
   "source": [
    "\n",
    "import re\n",
    "from langchain import PromptTemplate\n",
    "\n",
    "# Detect input {variables} from template\n",
    "variables = re.findall(r\"{(\\w+)}\", prompt_template)\n",
    "prompt = PromptTemplate(\n",
    "    template=prompt_template, input_variables=variables\n",
    ")\n"
   ]
  },
  {
   "cell_type": "code",
   "execution_count": 10,
   "metadata": {},
   "outputs": [
    {
     "data": {
      "text/plain": [
       "True"
      ]
     },
     "execution_count": 10,
     "metadata": {},
     "output_type": "execute_result"
    }
   ],
   "source": [
    "from langchain import HuggingFacePipeline, LLMChain\n",
    "from transformers import AutoTokenizer, AutoModelForCausalLM, pipeline\n",
    "\n",
    "import dotenv\n",
    "dotenv.load_dotenv()"
   ]
  },
  {
   "cell_type": "code",
   "execution_count": 11,
   "metadata": {},
   "outputs": [],
   "source": [
    "\n",
    "tokenizer = AutoTokenizer.from_pretrained(model_id)"
   ]
  },
  {
   "cell_type": "code",
   "execution_count": 12,
   "metadata": {},
   "outputs": [
    {
     "name": "stderr",
     "output_type": "stream",
     "text": [
      "Loading checkpoint shards: 100%|██████████| 39/39 [00:38<00:00,  1.00it/s]\n"
     ]
    }
   ],
   "source": [
    "\n",
    "model = AutoModelForCausalLM.from_pretrained(model_id)"
   ]
  },
  {
   "cell_type": "code",
   "execution_count": 13,
   "metadata": {},
   "outputs": [],
   "source": [
    "\n",
    "pipe = pipeline(\"text-generation\", model=model, tokenizer=tokenizer, max_new_tokens=128)"
   ]
  },
  {
   "cell_type": "code",
   "execution_count": 14,
   "metadata": {},
   "outputs": [],
   "source": [
    "\n",
    "llm = HuggingFacePipeline(pipeline=pipe)"
   ]
  },
  {
   "cell_type": "code",
   "execution_count": 15,
   "metadata": {},
   "outputs": [],
   "source": [
    "\n",
    "llm_chain = LLMChain(prompt=prompt, llm=llm)"
   ]
  },
  {
   "cell_type": "code",
   "execution_count": 17,
   "metadata": {},
   "outputs": [
    {
     "name": "stdout",
     "output_type": "stream",
     "text": [
      " First, you need to define what a \"water pokemon\" is. Is it a pokemon that is part of the Water type? Is it a pokemon that has a water-related move? Is it a pokemon that has a water-related ability?\n",
      "\n",
      "Once you have defined what a \"water pokemon\" is, you can then ask the question: \"Give me 5 water pokemons?\"\n",
      "\n",
      "The answer to this question is:\n",
      "\n",
      "1. Magikarp\n",
      "2. Gyarados\n",
      "3. Poliwag\n",
      "4. Poliwrath\n",
      "5. Squirt\n"
     ]
    }
   ],
   "source": [
    "\n",
    "print(llm_chain.run(\"Give me 5 water pokemons?\"))"
   ]
  },
  {
   "cell_type": "code",
   "execution_count": null,
   "metadata": {},
   "outputs": [],
   "source": []
  }
 ],
 "metadata": {
  "kernelspec": {
   "display_name": "kg-llm-interface-URVQdnEY-py3.10",
   "language": "python",
   "name": "python3"
  },
  "language_info": {
   "codemirror_mode": {
    "name": "ipython",
    "version": 3
   },
   "file_extension": ".py",
   "mimetype": "text/x-python",
   "name": "python",
   "nbconvert_exporter": "python",
   "pygments_lexer": "ipython3",
   "version": "3.10.9"
  },
  "orig_nbformat": 4
 },
 "nbformat": 4,
 "nbformat_minor": 2
}
